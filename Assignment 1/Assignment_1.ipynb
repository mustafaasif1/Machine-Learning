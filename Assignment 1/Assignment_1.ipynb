{
  "nbformat": 4,
  "nbformat_minor": 0,
  "metadata": {
    "colab": {
      "name": "21100042_Assignment1.ipynb",
      "provenance": [],
      "collapsed_sections": [],
      "toc_visible": true
    },
    "kernelspec": {
      "display_name": "Python 3",
      "language": "python",
      "name": "python3"
    },
    "language_info": {
      "codemirror_mode": {
        "name": "ipython",
        "version": 3
      },
      "file_extension": ".py",
      "mimetype": "text/x-python",
      "name": "python",
      "nbconvert_exporter": "python",
      "pygments_lexer": "ipython3",
      "version": "3.8.5"
    }
  },
  "cells": [
    {
      "cell_type": "markdown",
      "metadata": {
        "id": "3OLDQOswZ6EG"
      },
      "source": [
        "# Machine Learning Assignment 1 (21100042)\n",
        "## Preprocessing Stage:"
      ]
    },
    {
      "cell_type": "code",
      "metadata": {
        "id": "jLqJsYqNAXBI",
        "outputId": "80f7b8c2-e4fa-4ae1-eece-90ba4f3f5806",
        "colab": {
          "base_uri": "https://localhost:8080/",
          "height": 34
        }
      },
      "source": [
        "from google.colab import drive\n",
        "drive.mount('/content/drive')"
      ],
      "execution_count": null,
      "outputs": [
        {
          "output_type": "stream",
          "text": [
            "Drive already mounted at /content/drive; to attempt to forcibly remount, call drive.mount(\"/content/drive\", force_remount=True).\n"
          ],
          "name": "stdout"
        }
      ]
    },
    {
      "cell_type": "code",
      "metadata": {
        "id": "vysfZ63cmVx1",
        "outputId": "b37bdd69-37ed-4e2d-9f10-7b5f694e45d6",
        "colab": {
          "base_uri": "https://localhost:8080/",
          "height": 34
        }
      },
      "source": [
        "%cd /content/drive/My\\ Drive/Machine\\ Learning/Assignment\\ 1"
      ],
      "execution_count": null,
      "outputs": [
        {
          "output_type": "stream",
          "text": [
            "/content/drive/My Drive/Machine Learning/Assignment 1\n"
          ],
          "name": "stdout"
        }
      ]
    },
    {
      "cell_type": "code",
      "metadata": {
        "id": "yCXRGpobaEsO"
      },
      "source": [
        "import pandas as pd\n",
        "import numpy as np \n",
        "import sys\n",
        "import re"
      ],
      "execution_count": null,
      "outputs": []
    },
    {
      "cell_type": "code",
      "metadata": {
        "id": "CQ2p21gfI4TC"
      },
      "source": [
        "def compute_tp_tn_fn_fp(y_actual, y_predicted, sentiment):\n",
        "  tp = sum((y_actual == sentiment) & (y_predicted == sentiment))\n",
        "  tn = sum((y_actual != sentiment) & (y_predicted != sentiment))\n",
        "  fp = sum((y_actual == sentiment) & (y_predicted != sentiment))\n",
        "  fn = sum((y_actual != sentiment) & (y_predicted == sentiment))\n",
        "  return tp, tn, fp, fn"
      ],
      "execution_count": null,
      "outputs": []
    },
    {
      "cell_type": "code",
      "metadata": {
        "id": "0YmMh03TX-1K"
      },
      "source": [
        "def compute_precision(tp, fp):\n",
        "  val = tp+fp\n",
        "  if val == 0:\n",
        "    return \"Unable to calculate\"\n",
        "  else:\n",
        "    return (tp)/ float (tp+fp)"
      ],
      "execution_count": null,
      "outputs": []
    },
    {
      "cell_type": "code",
      "metadata": {
        "id": "-FsJFCYmYtfp"
      },
      "source": [
        "# Recall = TruePositives / (TruePositives + FalseNegatives)\n",
        "def compute_recall(tp, fn):\n",
        "  val = tp+fn\n",
        "  if val == 0:\n",
        "    return \"Unable to calculate\"\n",
        "  else:\n",
        "    return (tp)/ float (tp+fn)"
      ],
      "execution_count": null,
      "outputs": []
    },
    {
      "cell_type": "code",
      "metadata": {
        "id": "QQkCmv32ZCZz"
      },
      "source": [
        "def compute_f1_score(precision, recall):\n",
        "  if isinstance(precision, str) or isinstance(recall, str):\n",
        "    return \"Unable to calculate f1 score\"\n",
        "  else:\n",
        "    val = precision + recall\n",
        "    if val == 0.0:\n",
        "      return \"Unable to calculate\"\n",
        "    else:\n",
        "      return (2 * precision * recall)/ float (precision + recall)"
      ],
      "execution_count": null,
      "outputs": []
    },
    {
      "cell_type": "code",
      "metadata": {
        "id": "Kql0ThLBaOnK"
      },
      "source": [
        "# We saved the training data, test data and stop words in variables\n",
        "test = pd.read_csv (r'test.csv')\n",
        "train = pd.read_csv (r'train.csv')\n",
        "filename = 'stop_words.txt'\n",
        "stop_words = ''\n",
        "\n",
        "with open(filename) as f:\n",
        "    stop_words = f.readlines()"
      ],
      "execution_count": null,
      "outputs": []
    },
    {
      "cell_type": "code",
      "metadata": {
        "id": "Irl_8c27AUh7"
      },
      "source": [
        "# Removed the new line character form all of the words\n",
        "stop_words = [x.replace('\\n', '') for x in stop_words]"
      ],
      "execution_count": null,
      "outputs": []
    },
    {
      "cell_type": "code",
      "metadata": {
        "id": "9mrz4TmSAUiB"
      },
      "source": [
        "# Convered the tweets in test data to lower case\n",
        "test['Tweet'] = test['Tweet'].str.lower()\n",
        "\n",
        "# Convered the tweets in train data to lower case\n",
        "train['Tweet'] = train['Tweet'].str.lower()"
      ],
      "execution_count": null,
      "outputs": []
    },
    {
      "cell_type": "code",
      "metadata": {
        "id": "khBij9l2AUiD"
      },
      "source": [
        "# Removed stop words from the test data\n",
        "pat = r'\\b(?:{})\\b'.format('|'.join(stop_words))\n",
        "test['Tweet'] = test['Tweet'].str.replace(pat, '')\n",
        "test['Tweet'] = test['Tweet'].str.replace(r'\\s+', ' ')\n",
        "\n",
        "# Removed stop words from the train data\n",
        "pat = r'\\b(?:{})\\b'.format('|'.join(stop_words))\n",
        "train['Tweet'] = train['Tweet'].str.replace(pat, '')\n",
        "train['Tweet'] = train['Tweet'].str.replace(r'\\s+', ' ')"
      ],
      "execution_count": null,
      "outputs": []
    },
    {
      "cell_type": "code",
      "metadata": {
        "id": "Ws5QIjJFAUiK"
      },
      "source": [
        "# Removed tagged accounts, wesbites links and hashtags from the training data\n",
        "list1 = []\n",
        "for words in train['Tweet']:\n",
        "    sen = \" \".join(filter(lambda x:x[0]!='@', words.split()))\n",
        "    sen = \" \".join(filter(lambda x:x[0]!='#', sen.split()))\n",
        "    sen = re.sub(r\"http\\S+\", \"\", sen)\n",
        "    list1.append(sen)\n",
        "\n",
        "columns_to_overwrite = 'Tweet'\n",
        "train.drop(labels=columns_to_overwrite, axis=\"columns\", inplace=True)\n",
        "train[columns_to_overwrite] = list1\n",
        "\n",
        "\n",
        "# Removed tagged accounts, wesbites links and hashtags from the testing data\n",
        "list2 = []\n",
        "for words in test['Tweet']:\n",
        "    sen = \" \".join(filter(lambda x:x[0]!='@', words.split()))\n",
        "    sen = \" \".join(filter(lambda x:x[0]!='#', sen.split()))\n",
        "    sen = re.sub(r\"http\\S+\", \"\", sen)\n",
        "    list2.append(sen)\n",
        "\n",
        "columns_to_overwrite = 'Tweet'\n",
        "test.drop(labels=columns_to_overwrite, axis=\"columns\", inplace=True)\n",
        "test[columns_to_overwrite] = list2"
      ],
      "execution_count": null,
      "outputs": []
    },
    {
      "cell_type": "code",
      "metadata": {
        "id": "QzuiHUJgAUik"
      },
      "source": [
        "# Removed punctuation from the test data\n",
        "test[\"Tweet\"] = test['Tweet'].str.replace('[^\\w\\s]','')\n",
        "\n",
        "# Removed punctuation from the train data\n",
        "train[\"Tweet\"] = train['Tweet'].str.replace('[^\\w\\s]','')"
      ],
      "execution_count": null,
      "outputs": []
    },
    {
      "cell_type": "code",
      "metadata": {
        "id": "I_nHAOIpAUin"
      },
      "source": [
        "# train[\"Tweet\"]"
      ],
      "execution_count": null,
      "outputs": []
    },
    {
      "cell_type": "code",
      "metadata": {
        "id": "nNqH6Tw1AUis"
      },
      "source": [
        "# Feature Extraction\n",
        "train_list = train['Tweet'].values.tolist()\n",
        "# train_list"
      ],
      "execution_count": null,
      "outputs": []
    },
    {
      "cell_type": "code",
      "metadata": {
        "id": "ySKlN7qnAUiu"
      },
      "source": [
        "train_list = list(map(str.split, train_list)) \n",
        "# train_list"
      ],
      "execution_count": null,
      "outputs": []
    },
    {
      "cell_type": "code",
      "metadata": {
        "id": "6ktRxcbFAUi4",
        "outputId": "4e9843ac-0146-4e36-be82-3486f46cbd68",
        "colab": {
          "base_uri": "https://localhost:8080/",
          "height": 34
        }
      },
      "source": [
        "len(train_list)"
      ],
      "execution_count": null,
      "outputs": [
        {
          "output_type": "execute_result",
          "data": {
            "text/plain": [
              "11680"
            ]
          },
          "metadata": {
            "tags": []
          },
          "execution_count": 50
        }
      ]
    },
    {
      "cell_type": "code",
      "metadata": {
        "id": "WcrcIteYAUi8"
      },
      "source": [
        "all_words_dictionary = {}\n",
        "for sentence in train_list:\n",
        "    for token in sentence:\n",
        "        if token not in all_words_dictionary.keys():\n",
        "            all_words_dictionary[token] = 1\n",
        "        else:\n",
        "            all_words_dictionary[token] += 1"
      ],
      "execution_count": null,
      "outputs": []
    },
    {
      "cell_type": "code",
      "metadata": {
        "id": "7HBBCSApAUjj"
      },
      "source": [
        "import heapq\n",
        "reduced_words_dictionary = heapq.nlargest(200, all_words_dictionary, key=all_words_dictionary.get)"
      ],
      "execution_count": null,
      "outputs": []
    },
    {
      "cell_type": "code",
      "metadata": {
        "id": "yVLDEYkFAUjq"
      },
      "source": [
        "# reduced_words_dictionary"
      ],
      "execution_count": null,
      "outputs": []
    },
    {
      "cell_type": "code",
      "metadata": {
        "id": "f3xpHIcHAUmq"
      },
      "source": [
        "sentence_vectors = []\n",
        "for sentence in train_list:\n",
        "    sent_vec = []\n",
        "    for token in reduced_words_dictionary:\n",
        "        if token in sentence:\n",
        "            sent_vec.append(1)\n",
        "        else:\n",
        "            sent_vec.append(0)\n",
        "    sentence_vectors.append(sent_vec)"
      ],
      "execution_count": null,
      "outputs": []
    },
    {
      "cell_type": "code",
      "metadata": {
        "id": "cXeb-v-VAUm6"
      },
      "source": [
        "sentence_vectors = np.asarray(sentence_vectors)\n",
        "# np.set_printoptions(threshold=sys.maxsize)\n",
        "\n",
        "# sentence_vectors"
      ],
      "execution_count": null,
      "outputs": []
    },
    {
      "cell_type": "code",
      "metadata": {
        "id": "gY9KMHgcAUnz",
        "outputId": "a7ccf71b-a3ee-4bd0-db44-5a635469b828",
        "colab": {
          "base_uri": "https://localhost:8080/",
          "height": 34
        }
      },
      "source": [
        "len(sentence_vectors)"
      ],
      "execution_count": null,
      "outputs": [
        {
          "output_type": "execute_result",
          "data": {
            "text/plain": [
              "11680"
            ]
          },
          "metadata": {
            "tags": []
          },
          "execution_count": 56
        }
      ]
    },
    {
      "cell_type": "code",
      "metadata": {
        "id": "qI_OrQfAAUn5"
      },
      "source": [
        "new_sentence_vector = []\n",
        "a = 0\n",
        "for i in sentence_vectors:\n",
        "    new_sentence_vector.append([i, train[\"Sentiment\"][a]])\n",
        "    a+=1"
      ],
      "execution_count": null,
      "outputs": []
    },
    {
      "cell_type": "code",
      "metadata": {
        "id": "sLHcMMrxAUoU"
      },
      "source": [
        "# Calulating the distance of every testing data with the training data"
      ],
      "execution_count": null,
      "outputs": []
    },
    {
      "cell_type": "code",
      "metadata": {
        "id": "7BT73u3YAUoY"
      },
      "source": [
        "test_list = test['Tweet'].values.tolist()\n",
        "# test_list"
      ],
      "execution_count": null,
      "outputs": []
    },
    {
      "cell_type": "code",
      "metadata": {
        "id": "M73lvwuBAUob"
      },
      "source": [
        "test_list = list(map(str.split, test_list)) \n",
        "# test_list"
      ],
      "execution_count": null,
      "outputs": []
    },
    {
      "cell_type": "code",
      "metadata": {
        "id": "9QvrOmW1AUo7"
      },
      "source": [
        "sentence_vectors_test = []\n",
        "for sentence in test_list:\n",
        "    sent_vec = []\n",
        "    for token in reduced_words_dictionary:\n",
        "        if token in sentence:\n",
        "            sent_vec.append(1)\n",
        "        else:\n",
        "            sent_vec.append(0)\n",
        "    sent_vec = np.asarray(sent_vec)\n",
        "    sentence_vectors_test.append(sent_vec)\n",
        "\n",
        "sentence_vectors_test = np.asarray(sentence_vectors_test)\n",
        "np.set_printoptions(threshold=sys.maxsize)\n"
      ],
      "execution_count": null,
      "outputs": []
    },
    {
      "cell_type": "code",
      "metadata": {
        "id": "Gh3QTWjMeoEg"
      },
      "source": [
        "# Define a function that takes in the value of k and outputs the predictions\n",
        "\n",
        "from operator import itemgetter\n",
        "def Taking_the_value_of_k_and_outputting_predictions(training_data, testing_data, k):\n",
        "  predicted_sentiment_array = []\n",
        "\n",
        "  for i in testing_data:\n",
        "    all_distances_sentiments = [] \n",
        "    for j in training_data:\n",
        "        dist = np.linalg.norm(i-j[0])\n",
        "        distance_sentiment_array = (dist,j[1])\n",
        "        all_distances_sentiments.append(distance_sentiment_array)\n",
        "    # print(all_distances_sentiments)    \n",
        "    all_distances_sentiments.sort(key=itemgetter(0))\n",
        "    value = all_distances_sentiments[:k]\n",
        "    if k == 1:\n",
        "      list_1 = value[0]\n",
        "    else:\n",
        "      list_1 = max(set(value), key=value.count)\n",
        "    predicted_sentiment_array.append(list_1[1])\n",
        "    \n",
        "  return predicted_sentiment_array"
      ],
      "execution_count": null,
      "outputs": []
    },
    {
      "cell_type": "code",
      "metadata": {
        "id": "m7cmJJDVymjP"
      },
      "source": [
        "test['Predicted for k1'] = Taking_the_value_of_k_and_outputting_predictions(new_sentence_vector, sentence_vectors_test, 1)"
      ],
      "execution_count": null,
      "outputs": []
    },
    {
      "cell_type": "code",
      "metadata": {
        "id": "8MA_BTxneoHZ",
        "outputId": "90a526bd-6083-48a8-e262-37b3118e42cf",
        "colab": {
          "base_uri": "https://localhost:8080/",
          "height": 298
        }
      },
      "source": [
        "# Accuracy\n",
        "count = 0\n",
        "for x in range(2921):\n",
        "  if test['Sentiment'][x] == test['Predicted for k1'][x]:\n",
        "    count += 1\n",
        "\n",
        "accuracy_1 = count/2921\n",
        "print(f'Accuracy for k1 is: {accuracy_1}')\n",
        "\n",
        "# Totals\n",
        "total_recall_1 = 0\n",
        "total_precision_1 = 0\n",
        "total_f1_1 = 0\n",
        "\n",
        "# Neutral\n",
        "tp, tn, fp, fn =  compute_tp_tn_fn_fp(test['Sentiment'], test['Predicted for k1'], 'neutral')\n",
        "\n",
        "# Recall for neutral \n",
        "recall = compute_recall(tp, fn)\n",
        "total_recall_1 = total_recall_1 + recall\n",
        "print(f'Recall for neutral is: {recall}')\n",
        "\n",
        "# Precision for neutral\n",
        "precision = compute_precision(tp, fp)\n",
        "total_precision_1 = total_precision_1 + precision\n",
        "print(f'Precision for neutral is: {precision}')\n",
        "\n",
        "# F1 score for neutral\n",
        "f1_score = compute_f1_score(precision, recall)\n",
        "total_f1_1 = total_f1_1 + f1_score\n",
        "print(f'F1 score for neutral is: {f1_score}\\n')\n",
        "\n",
        "# Positive\n",
        "tp, tn, fp, fn =  compute_tp_tn_fn_fp(test['Sentiment'], test['Predicted for k1'], 'positive')\n",
        "\n",
        "# Recall for positive \n",
        "recall = compute_recall(tp, fn)\n",
        "total_recall_1 = total_recall_1 + recall\n",
        "print(f'Recall for positive is: {recall}')\n",
        "\n",
        "# Precision for positive\n",
        "precision = compute_precision(tp, fp)\n",
        "total_precision_1 = total_precision_1 + precision\n",
        "print(f'Precision for positive is: {precision}')\n",
        "\n",
        "# F1 score for positive\n",
        "f1_score = compute_f1_score(precision, recall)\n",
        "total_f1_1 = total_f1_1 + f1_score\n",
        "print(f'F1 score for positive is: {f1_score}\\n')\n",
        "\n",
        "# Negative\n",
        "tp, tn, fp, fn =  compute_tp_tn_fn_fp(test['Sentiment'], test['Predicted for k1'], 'negative')\n",
        "\n",
        "# Recall for negative \n",
        "recall = compute_recall(tp, fn)\n",
        "total_recall_1 = total_recall_1 + recall\n",
        "print(f'Recall for negative is: {recall}')\n",
        "\n",
        "# Precision for negative\n",
        "precision = compute_precision(tp, fp)\n",
        "total_precision_1 = total_precision_1 + precision\n",
        "print(f'Precision for negative is: {precision}')\n",
        "\n",
        "# F1 score for negative\n",
        "f1_score = compute_f1_score(precision, recall)\n",
        "total_f1_1 = total_f1_1 + f1_score\n",
        "print(f'F1 score for negative is: {f1_score}\\n')\n",
        "\n",
        "total_recall_1 = total_recall_1/3\n",
        "total_precision_1 = total_precision_1/3\n",
        "total_f1_1 = total_f1_1/3\n",
        "\n",
        "print(f'Total recall is: {total_recall_1}')\n",
        "print(f'Total precision is: {total_precision_1}')\n",
        "print(f'Total F1 score is: {total_f1_1}')"
      ],
      "execution_count": null,
      "outputs": [
        {
          "output_type": "stream",
          "text": [
            "Accuracy for k1 is: 0.5864429989729545\n",
            "Recall for neutral is: 0.3518930957683742\n",
            "Precision for neutral is: 0.5138211382113821\n",
            "F1 score for neutral is: 0.41771315267680104\n",
            "\n",
            "Recall for positive is: 0.427536231884058\n",
            "Precision for positive is: 0.5\n",
            "F1 score for positive is: 0.4609375\n",
            "\n",
            "Recall for negative is: 0.7892590074779062\n",
            "Precision for negative is: 0.6330425299890948\n",
            "F1 score for negative is: 0.7025718608169439\n",
            "\n",
            "Total recall is: 0.5228961117101129\n",
            "Total precision is: 0.5489545560668256\n",
            "Total F1 score is: 0.5270741711645816\n"
          ],
          "name": "stdout"
        }
      ]
    },
    {
      "cell_type": "code",
      "metadata": {
        "id": "blPMwW0Rypj_"
      },
      "source": [
        "test['Predicted for k3'] = Taking_the_value_of_k_and_outputting_predictions(new_sentence_vector, sentence_vectors_test, 3)"
      ],
      "execution_count": null,
      "outputs": []
    },
    {
      "cell_type": "code",
      "metadata": {
        "id": "k-7G7qX-kBaq",
        "outputId": "523fdffb-e17a-422f-c244-e0f2ffad509b",
        "colab": {
          "base_uri": "https://localhost:8080/",
          "height": 298
        }
      },
      "source": [
        "# Accuracy\n",
        "count = 0\n",
        "for x in range(2921):\n",
        "  if test['Sentiment'][x] == test['Predicted for k3'][x]:\n",
        "    count += 1\n",
        "\n",
        "accuracy_3 = count/2921\n",
        "print(f'Accuracy for k3 is: {accuracy_3}')\n",
        "\n",
        "# Totals\n",
        "total_recall_3 = 0\n",
        "total_precision_3 = 0\n",
        "total_f1_3 = 0\n",
        "\n",
        "# Neutral\n",
        "tp, tn, fp, fn =  compute_tp_tn_fn_fp(test['Sentiment'], test['Predicted for k3'], 'neutral')\n",
        "\n",
        "# Recall for neutral \n",
        "recall = compute_recall(tp, fn)\n",
        "total_recall_3 = total_recall_3 + recall\n",
        "print(f'Recall for neutral is: {recall}')\n",
        "\n",
        "# Precision for neutral\n",
        "precision = compute_precision(tp, fp)\n",
        "total_precision_3 = total_precision_3 + precision\n",
        "print(f'Precision for neutral is: {precision}')\n",
        "\n",
        "# F1 score for neutral\n",
        "f1_score = compute_f1_score(precision, recall)\n",
        "total_f1_3 = total_f1_3 + f1_score\n",
        "print(f'F1 score for neutral is: {f1_score}\\n')\n",
        "\n",
        "# Positive\n",
        "tp, tn, fp, fn =  compute_tp_tn_fn_fp(test['Sentiment'], test['Predicted for k3'], 'positive')\n",
        "\n",
        "# Recall for positive \n",
        "recall = compute_recall(tp, fn)\n",
        "total_recall_3 = total_recall_3 + recall\n",
        "print(f'Recall for positive is: {recall}')\n",
        "\n",
        "# Precision for positive\n",
        "precision = compute_precision(tp, fp)\n",
        "total_precision_3 = total_precision_3 + precision\n",
        "print(f'Precision for positive is: {precision}')\n",
        "\n",
        "# F1 score for positive\n",
        "f1_score = compute_f1_score(precision, recall)\n",
        "total_f1_3 = total_f1_3 + f1_score\n",
        "print(f'F1 score for positive is: {f1_score}\\n')\n",
        "\n",
        "# Negative\n",
        "tp, tn, fp, fn =  compute_tp_tn_fn_fp(test['Sentiment'], test['Predicted for k3'], 'negative')\n",
        "\n",
        "# Recall for negative \n",
        "recall = compute_recall(tp, fn)\n",
        "total_recall_3 = total_recall_3 + recall\n",
        "print(f'Recall for negative is: {recall}')\n",
        "\n",
        "# Precision for negative\n",
        "precision = compute_precision(tp, fp)\n",
        "total_precision_3 = total_precision_3 + precision\n",
        "print(f'Precision for negative is: {precision}')\n",
        "\n",
        "# F1 score for negative\n",
        "f1_score = compute_f1_score(precision, recall)\n",
        "total_f1_3 = total_f1_3 + f1_score\n",
        "print(f'F1 score for negative is: {f1_score}\\n')\n",
        "\n",
        "total_recall_3 = total_recall_3/3\n",
        "total_precision_3 = total_precision_3/3\n",
        "total_f1_3 = total_f1_3/3\n",
        "\n",
        "print(f'Total recall is: {total_recall_3}')\n",
        "print(f'Total precision is: {total_precision_3}')\n",
        "print(f'Total F1 score is: {total_f1_3}')"
      ],
      "execution_count": null,
      "outputs": [
        {
          "output_type": "stream",
          "text": [
            "Accuracy for k3 is: 0.6220472440944882\n",
            "Recall for neutral is: 0.359375\n",
            "Precision for neutral is: 0.5235772357723577\n",
            "F1 score for neutral is: 0.4262078093977498\n",
            "\n",
            "Recall for positive is: 0.5370370370370371\n",
            "Precision for positive is: 0.4915254237288136\n",
            "F1 score for positive is: 0.5132743362831859\n",
            "\n",
            "Recall for negative is: 0.7928436911487758\n",
            "Precision for negative is: 0.6886586695747001\n",
            "F1 score for negative is: 0.7370878319229648\n",
            "\n",
            "Total recall is: 0.5630852427286043\n",
            "Total precision is: 0.5679204430252904\n",
            "Total F1 score is: 0.5588566592013001\n"
          ],
          "name": "stdout"
        }
      ]
    },
    {
      "cell_type": "code",
      "metadata": {
        "id": "UqkqIuml90Z1"
      },
      "source": [
        "test['Predicted for k5'] = Taking_the_value_of_k_and_outputting_predictions(new_sentence_vector, sentence_vectors_test, 5)"
      ],
      "execution_count": null,
      "outputs": []
    },
    {
      "cell_type": "code",
      "metadata": {
        "id": "H9MvcX_ikBhi",
        "outputId": "b8b457be-f29b-42d5-9479-f07517bb2a27",
        "colab": {
          "base_uri": "https://localhost:8080/",
          "height": 298
        }
      },
      "source": [
        "# Accuracy\n",
        "count = 0\n",
        "for x in range(2921):\n",
        "  if test['Sentiment'][x] == test['Predicted for k5'][x]:\n",
        "    count += 1\n",
        "\n",
        "accuracy_5 = count/2921\n",
        "print(f'Accuracy for k5 is: {accuracy_5}')\n",
        "\n",
        "# Totals\n",
        "total_recall_5 = 0\n",
        "total_precision_5 = 0\n",
        "total_f1_5 = 0\n",
        "\n",
        "# Neutral\n",
        "tp, tn, fp, fn =  compute_tp_tn_fn_fp(test['Sentiment'], test['Predicted for k5'], 'neutral')\n",
        "\n",
        "# Recall for neutral \n",
        "recall = compute_recall(tp, fn)\n",
        "total_recall_5 = total_recall_5 + recall\n",
        "print(f'Recall for neutral is: {recall}')\n",
        "\n",
        "# Precision for neutral\n",
        "precision = compute_precision(tp, fp)\n",
        "total_precision_5 = total_precision_5 + precision\n",
        "print(f'Precision for neutral is: {precision}')\n",
        "\n",
        "# F1 score for neutral\n",
        "f1_score = compute_f1_score(precision, recall)\n",
        "total_f1_5 = total_f1_5 + f1_score\n",
        "print(f'F1 score for neutral is: {f1_score}\\n')\n",
        "\n",
        "# Positive\n",
        "tp, tn, fp, fn =  compute_tp_tn_fn_fp(test['Sentiment'], test['Predicted for k5'], 'positive')\n",
        "\n",
        "# Recall for positive \n",
        "recall = compute_recall(tp, fn)\n",
        "total_recall_5 = total_recall_5 + recall\n",
        "print(f'Recall for positive is: {recall}')\n",
        "\n",
        "# Precision for positive\n",
        "precision = compute_precision(tp, fp)\n",
        "total_precision_5 = total_precision_5 + precision\n",
        "print(f'Precision for positive is: {precision}')\n",
        "\n",
        "# F1 score for positive\n",
        "f1_score = compute_f1_score(precision, recall)\n",
        "total_f1_5 = total_f1_5 + f1_score\n",
        "print(f'F1 score for positive is: {f1_score}\\n')\n",
        "\n",
        "# Negative\n",
        "tp, tn, fp, fn =  compute_tp_tn_fn_fp(test['Sentiment'], test['Predicted for k5'], 'negative')\n",
        "\n",
        "# Recall for negative \n",
        "recall = compute_recall(tp, fn)\n",
        "total_recall_5 = total_recall_5 + recall\n",
        "print(f'Recall for negative is: {recall}')\n",
        "\n",
        "# Precision for negative\n",
        "precision = compute_precision(tp, fp)\n",
        "total_precision_5 = total_precision_5 + precision\n",
        "print(f'Precision for negative is: {precision}')\n",
        "\n",
        "# F1 score for negative\n",
        "f1_score = compute_f1_score(precision, recall)\n",
        "total_f1_5 = total_f1_5 + f1_score\n",
        "print(f'F1 score for negative is: {f1_score}\\n')\n",
        "\n",
        "total_recall_5 = total_recall_5/3\n",
        "total_precision_5 = total_precision_5/3\n",
        "total_f1_5 = total_f1_5/3\n",
        "\n",
        "print(f'Total recall is: {total_recall_5}')\n",
        "print(f'Total precision is: {total_precision_5}')\n",
        "print(f'Total F1 score is: {total_f1_5}')"
      ],
      "execution_count": null,
      "outputs": [
        {
          "output_type": "stream",
          "text": [
            "Accuracy for k5 is: 0.6391646696336871\n",
            "Recall for neutral is: 0.3741573033707865\n",
            "Precision for neutral is: 0.5414634146341464\n",
            "F1 score for neutral is: 0.44252491694352153\n",
            "\n",
            "Recall for positive is: 0.6073298429319371\n",
            "Precision for positive is: 0.4915254237288136\n",
            "F1 score for positive is: 0.5433255269320844\n",
            "\n",
            "Recall for negative is: 0.7895694360218314\n",
            "Precision for negative is: 0.7099236641221374\n",
            "F1 score for negative is: 0.747631352282515\n",
            "\n",
            "Total recall is: 0.590352194108185\n",
            "Total precision is: 0.5809708341616991\n",
            "Total F1 score is: 0.5778272653860403\n"
          ],
          "name": "stdout"
        }
      ]
    },
    {
      "cell_type": "code",
      "metadata": {
        "id": "_wid4UN493ew"
      },
      "source": [
        "test['Predicted for k7'] = Taking_the_value_of_k_and_outputting_predictions(new_sentence_vector, sentence_vectors_test, 7)"
      ],
      "execution_count": null,
      "outputs": []
    },
    {
      "cell_type": "code",
      "metadata": {
        "id": "mrGPMYT4kBnQ",
        "outputId": "5c08e36d-5c60-4310-ceeb-f42bc9ad3741",
        "colab": {
          "base_uri": "https://localhost:8080/",
          "height": 298
        }
      },
      "source": [
        "# Accuracy\n",
        "count = 0\n",
        "for x in range(2921):\n",
        "  if test['Sentiment'][x] == test['Predicted for k7'][x]:\n",
        "    count += 1\n",
        "\n",
        "accuracy_7 = count/2921\n",
        "print(f'Accuracy for k7 is: {accuracy_7}')\n",
        "\n",
        "# Totals\n",
        "total_recall_7 = 0\n",
        "total_precision_7 = 0\n",
        "total_f1_7 = 0\n",
        "\n",
        "# Neutral\n",
        "tp, tn, fp, fn =  compute_tp_tn_fn_fp(test['Sentiment'], test['Predicted for k7'], 'neutral')\n",
        "\n",
        "# Recall for neutral \n",
        "recall = compute_recall(tp, fn)\n",
        "total_recall_7 = total_recall_7 + recall\n",
        "print(f'Recall for neutral is: {recall}')\n",
        "\n",
        "# Precision for neutral\n",
        "precision = compute_precision(tp, fp)\n",
        "total_precision_7 = total_precision_7 + precision\n",
        "print(f'Precision for neutral is: {precision}')\n",
        "\n",
        "# F1 score for neutral\n",
        "f1_score = compute_f1_score(precision, recall)\n",
        "total_f1_7 = total_f1_7 + f1_score\n",
        "print(f'F1 score for neutral is: {f1_score}\\n')\n",
        "\n",
        "# Positive\n",
        "tp, tn, fp, fn =  compute_tp_tn_fn_fp(test['Sentiment'], test['Predicted for k7'], 'positive')\n",
        "\n",
        "# Recall for positive \n",
        "recall = compute_recall(tp, fn)\n",
        "total_recall_7 = total_recall_7 + recall\n",
        "print(f'Recall for positive is: {recall}')\n",
        "\n",
        "# Precision for positive\n",
        "precision = compute_precision(tp, fp)\n",
        "total_precision_7 = total_precision_7 + precision\n",
        "print(f'Precision for positive is: {precision}')\n",
        "\n",
        "# F1 score for positive\n",
        "f1_score = compute_f1_score(precision, recall)\n",
        "total_f1_7 = total_f1_7 + f1_score\n",
        "print(f'F1 score for positive is: {f1_score}\\n')\n",
        "\n",
        "# Negative\n",
        "tp, tn, fp, fn =  compute_tp_tn_fn_fp(test['Sentiment'], test['Predicted for k7'], 'negative')\n",
        "\n",
        "# Recall for negative \n",
        "recall = compute_recall(tp, fn)\n",
        "total_recall_7 = total_recall_7 + recall\n",
        "print(f'Recall for negative is: {recall}')\n",
        "\n",
        "# Precision for negative\n",
        "precision = compute_precision(tp, fp)\n",
        "total_precision_7 = total_precision_7 + precision\n",
        "print(f'Precision for negative is: {precision}')\n",
        "\n",
        "# F1 score for negative\n",
        "f1_score = compute_f1_score(precision, recall)\n",
        "total_f1_7 = total_f1_7 + f1_score\n",
        "print(f'F1 score for negative is: {f1_score}\\n')\n",
        "\n",
        "total_recall_7 = total_recall_7/3\n",
        "total_precision_7 = total_precision_7/3\n",
        "total_f1_7 = total_f1_7/3\n",
        "\n",
        "print(f'Total recall is: {total_recall_7}')\n",
        "print(f'Total precision is: {total_precision_7}')\n",
        "print(f'Total F1 score is: {total_f1_7}')"
      ],
      "execution_count": null,
      "outputs": [
        {
          "output_type": "stream",
          "text": [
            "Accuracy for k7 is: 0.6442998972954468\n",
            "Recall for neutral is: 0.3812154696132597\n",
            "Precision for neutral is: 0.5609756097560976\n",
            "F1 score for neutral is: 0.45394736842105265\n",
            "\n",
            "Recall for positive is: 0.6161879895561357\n",
            "Precision for positive is: 0.5\n",
            "F1 score for positive is: 0.552046783625731\n",
            "\n",
            "Recall for negative is: 0.7966932026944274\n",
            "Precision for negative is: 0.7093784078516903\n",
            "F1 score for negative is: 0.7505047591577734\n",
            "\n",
            "Total recall is: 0.5980322206212744\n",
            "Total precision is: 0.5901180058692627\n",
            "Total F1 score is: 0.5854996370681856\n"
          ],
          "name": "stdout"
        }
      ]
    },
    {
      "cell_type": "code",
      "metadata": {
        "id": "r9PUonp_95aq"
      },
      "source": [
        "test['Predicted for k10'] = Taking_the_value_of_k_and_outputting_predictions(new_sentence_vector, sentence_vectors_test, 10)"
      ],
      "execution_count": null,
      "outputs": []
    },
    {
      "cell_type": "code",
      "metadata": {
        "id": "ydnRRLGzkBzu",
        "outputId": "a854e9a6-8d23-4f52-f6f8-db8eb6b111bc",
        "colab": {
          "base_uri": "https://localhost:8080/",
          "height": 298
        }
      },
      "source": [
        "\n",
        "# Accuracy\n",
        "count = 0\n",
        "for x in range(2921):\n",
        "  if test['Sentiment'][x] == test['Predicted for k10'][x]:\n",
        "    count += 1\n",
        "\n",
        "accuracy_10 = count/2921\n",
        "print(f'Accuracy for k1 is: {accuracy_10}')\n",
        "\n",
        "# Totals\n",
        "total_recall_10 = 0\n",
        "total_precision_10 = 0\n",
        "total_f1_10 = 0\n",
        "\n",
        "# Neutral\n",
        "tp, tn, fp, fn =  compute_tp_tn_fn_fp(test['Sentiment'], test['Predicted for k10'], 'neutral')\n",
        "\n",
        "# Recall for neutral \n",
        "recall = compute_recall(tp, fn)\n",
        "total_recall_10 = total_recall_10 + recall\n",
        "print(f'Recall for neutral is: {recall}')\n",
        "\n",
        "# Precision for neutral\n",
        "precision = compute_precision(tp, fp)\n",
        "total_precision_10 = total_precision_10 + precision\n",
        "print(f'Precision for neutral is: {precision}')\n",
        "\n",
        "# F1 score for neutral\n",
        "f1_score = compute_f1_score(precision, recall)\n",
        "total_f1_10 = total_f1_10 + f1_score\n",
        "print(f'F1 score for neutral is: {f1_score}\\n')\n",
        "\n",
        "# Positive\n",
        "tp, tn, fp, fn =  compute_tp_tn_fn_fp(test['Sentiment'], test['Predicted for k10'], 'positive')\n",
        "\n",
        "# Recall for positive \n",
        "recall = compute_recall(tp, fn)\n",
        "total_recall_10 = total_recall_10 + recall\n",
        "print(f'Recall for positive is: {recall}')\n",
        "\n",
        "# Precision for positive\n",
        "precision = compute_precision(tp, fp)\n",
        "total_precision_10 = total_precision_10 + precision\n",
        "print(f'Precision for positive is: {precision}')\n",
        "\n",
        "# F1 score for positive\n",
        "f1_score = compute_f1_score(precision, recall)\n",
        "total_f1_10 = total_f1_10 + f1_score\n",
        "print(f'F1 score for positive is: {f1_score}\\n')\n",
        "\n",
        "# Negative\n",
        "tp, tn, fp, fn =  compute_tp_tn_fn_fp(test['Sentiment'], test['Predicted for k10'], 'negative')\n",
        "\n",
        "# Recall for negative \n",
        "recall = compute_recall(tp, fn)\n",
        "total_recall_10 = total_recall_10 + recall\n",
        "print(f'Recall for negative is: {recall}')\n",
        "\n",
        "# Precision for negative\n",
        "precision = compute_precision(tp, fp)\n",
        "total_precision_10 = total_precision_10 + precision\n",
        "print(f'Precision for negative is: {precision}')\n",
        "\n",
        "# F1 score for negative\n",
        "f1_score = compute_f1_score(precision, recall)\n",
        "total_f1_10 = total_f1_10 + f1_score\n",
        "print(f'F1 score for negative is: {f1_score}\\n')\n",
        "\n",
        "total_recall_10 = total_recall_10/3\n",
        "total_precision_10 = total_precision_10/3\n",
        "total_f1_10 = total_f1_10/3\n",
        "\n",
        "print(f'Total recall is: {total_recall_10}')\n",
        "print(f'Total precision is: {total_precision_10}')\n",
        "print(f'Total F1 score is: {total_f1_10}')"
      ],
      "execution_count": null,
      "outputs": [
        {
          "output_type": "stream",
          "text": [
            "Accuracy for k1 is: 0.6340294419719275\n",
            "Recall for neutral is: 0.367983367983368\n",
            "Precision for neutral is: 0.5756097560975609\n",
            "F1 score for neutral is: 0.4489537095751427\n",
            "\n",
            "Recall for positive is: 0.6301369863013698\n",
            "Precision for positive is: 0.4872881355932203\n",
            "F1 score for positive is: 0.5495818399044206\n",
            "\n",
            "Recall for negative is: 0.795483061480552\n",
            "Precision for negative is: 0.6913849509269356\n",
            "F1 score for negative is: 0.7397899649941656\n",
            "\n",
            "Total recall is: 0.5978678052550966\n",
            "Total precision is: 0.5847609475392389\n",
            "Total F1 score is: 0.5794418381579096\n"
          ],
          "name": "stdout"
        }
      ]
    },
    {
      "cell_type": "code",
      "metadata": {
        "id": "JipiXXx3LAXi",
        "outputId": "a3020a20-615a-45ec-a13f-925e3a68e547",
        "colab": {
          "base_uri": "https://localhost:8080/",
          "height": 279
        }
      },
      "source": [
        "# Plots\n",
        "import matplotlib.pyplot as plt\n",
        "\n",
        "k = [1,3,5,7,10]\n",
        "all_accuracies = [accuracy_1, accuracy_3, accuracy_5, accuracy_7, accuracy_10]\n",
        "all_recalls = [total_recall_1, total_recall_3, total_recall_5, total_recall_7, total_recall_10]\n",
        "all_precisions = [total_precision_1, total_precision_3, total_precision_5, total_precision_7, total_precision_10]\n",
        "all_f1 = [total_f1_1, total_f1_3, total_f1_5, total_f1_7, total_f1_10]\n",
        "\n",
        "\n",
        "plt.plot(k,all_accuracies, 'r', label='Accuracy')\n",
        "plt.plot(k,all_recalls, 'b', label='Recall')\n",
        "plt.plot(k,all_precisions, 'g', label='Precision')\n",
        "plt.plot(k,all_f1, 'y', label='F1-score')\n",
        "\n",
        "plt.legend()\n",
        "plt.xlabel('K')\n",
        "plt.show()"
      ],
      "execution_count": null,
      "outputs": [
        {
          "output_type": "display_data",
          "data": {
            "image/png": "[encoded data removed]",
            "text/plain": [
              "<Figure size 432x288 with 1 Axes>"
            ]
          },
          "metadata": {
            "tags": [],
            "needs_background": "light"
          }
        }
      ]
    },
    {
      "cell_type": "markdown",
      "metadata": {
        "id": "tGTuUGnqcIUY"
      },
      "source": [
        "## Part **2**"
      ]
    },
    {
      "cell_type": "code",
      "metadata": {
        "id": "3sbSo8XYLQlL",
        "outputId": "6ad3a60d-7129-4e78-ce1d-edb11f6113bd",
        "colab": {
          "base_uri": "https://localhost:8080/",
          "height": 486
        }
      },
      "source": [
        "test"
      ],
      "execution_count": null,
      "outputs": [
        {
          "output_type": "execute_result",
          "data": {
            "text/html": [
              "<div>\n",
              "<style scoped>\n",
              "    .dataframe tbody tr th:only-of-type {\n",
              "        vertical-align: middle;\n",
              "    }\n",
              "\n",
              "    .dataframe tbody tr th {\n",
              "        vertical-align: top;\n",
              "    }\n",
              "\n",
              "    .dataframe thead th {\n",
              "        text-align: right;\n",
              "    }\n",
              "</style>\n",
              "<table border=\"1\" class=\"dataframe\">\n",
              "  <thead>\n",
              "    <tr style=\"text-align: right;\">\n",
              "      <th></th>\n",
              "      <th>Sentiment</th>\n",
              "      <th>Tweet</th>\n",
              "      <th>Predicted for k1</th>\n",
              "      <th>Predicted for k3</th>\n",
              "      <th>Predicted for k5</th>\n",
              "      <th>Predicted for k7</th>\n",
              "      <th>Predicted for k10</th>\n",
              "    </tr>\n",
              "  </thead>\n",
              "  <tbody>\n",
              "    <tr>\n",
              "      <th>0</th>\n",
              "      <td>neutral</td>\n",
              "      <td>jump dallasaustin market</td>\n",
              "      <td>neutral</td>\n",
              "      <td>neutral</td>\n",
              "      <td>neutral</td>\n",
              "      <td>neutral</td>\n",
              "      <td>neutral</td>\n",
              "    </tr>\n",
              "    <tr>\n",
              "      <th>1</th>\n",
              "      <td>positive</td>\n",
              "      <td>chicago seen seat 6a aa 1620 far great ride pdx</td>\n",
              "      <td>negative</td>\n",
              "      <td>negative</td>\n",
              "      <td>negative</td>\n",
              "      <td>negative</td>\n",
              "      <td>negative</td>\n",
              "    </tr>\n",
              "    <tr>\n",
              "      <th>2</th>\n",
              "      <td>negative</td>\n",
              "      <td>need bag bouncer get together</td>\n",
              "      <td>positive</td>\n",
              "      <td>negative</td>\n",
              "      <td>negative</td>\n",
              "      <td>negative</td>\n",
              "      <td>negative</td>\n",
              "    </tr>\n",
              "    <tr>\n",
              "      <th>3</th>\n",
              "      <td>negative</td>\n",
              "      <td>hey jetblue stranded entire plane supposed go ...</td>\n",
              "      <td>negative</td>\n",
              "      <td>negative</td>\n",
              "      <td>negative</td>\n",
              "      <td>neutral</td>\n",
              "      <td>neutral</td>\n",
              "    </tr>\n",
              "    <tr>\n",
              "      <th>4</th>\n",
              "      <td>negative</td>\n",
              "      <td>big fail curbside baggage pittsburgh charge 30...</td>\n",
              "      <td>negative</td>\n",
              "      <td>negative</td>\n",
              "      <td>negative</td>\n",
              "      <td>negative</td>\n",
              "      <td>negative</td>\n",
              "    </tr>\n",
              "    <tr>\n",
              "      <th>...</th>\n",
              "      <td>...</td>\n",
              "      <td>...</td>\n",
              "      <td>...</td>\n",
              "      <td>...</td>\n",
              "      <td>...</td>\n",
              "      <td>...</td>\n",
              "      <td>...</td>\n",
              "    </tr>\n",
              "    <tr>\n",
              "      <th>2916</th>\n",
              "      <td>negative</td>\n",
              "      <td>yet  next terminal customer service area</td>\n",
              "      <td>negative</td>\n",
              "      <td>negative</td>\n",
              "      <td>negative</td>\n",
              "      <td>negative</td>\n",
              "      <td>negative</td>\n",
              "    </tr>\n",
              "    <tr>\n",
              "      <th>2917</th>\n",
              "      <td>neutral</td>\n",
              "      <td>hope pilot good day</td>\n",
              "      <td>positive</td>\n",
              "      <td>neutral</td>\n",
              "      <td>negative</td>\n",
              "      <td>negative</td>\n",
              "      <td>negative</td>\n",
              "    </tr>\n",
              "    <tr>\n",
              "      <th>2918</th>\n",
              "      <td>negative</td>\n",
              "      <td>hold 2 hours answer</td>\n",
              "      <td>negative</td>\n",
              "      <td>negative</td>\n",
              "      <td>negative</td>\n",
              "      <td>negative</td>\n",
              "      <td>negative</td>\n",
              "    </tr>\n",
              "    <tr>\n",
              "      <th>2919</th>\n",
              "      <td>negative</td>\n",
              "      <td>come  already delayed 2 hrs flight 1415 waited...</td>\n",
              "      <td>negative</td>\n",
              "      <td>negative</td>\n",
              "      <td>negative</td>\n",
              "      <td>negative</td>\n",
              "      <td>negative</td>\n",
              "    </tr>\n",
              "    <tr>\n",
              "      <th>2920</th>\n",
              "      <td>negative</td>\n",
              "      <td>suck worst airline ever never flying stuck 13 ...</td>\n",
              "      <td>negative</td>\n",
              "      <td>negative</td>\n",
              "      <td>negative</td>\n",
              "      <td>negative</td>\n",
              "      <td>negative</td>\n",
              "    </tr>\n",
              "  </tbody>\n",
              "</table>\n",
              "<p>2921 rows × 7 columns</p>\n",
              "</div>"
            ],
            "text/plain": [
              "     Sentiment  ... Predicted for k10\n",
              "0      neutral  ...           neutral\n",
              "1     positive  ...          negative\n",
              "2     negative  ...          negative\n",
              "3     negative  ...           neutral\n",
              "4     negative  ...          negative\n",
              "...        ...  ...               ...\n",
              "2916  negative  ...          negative\n",
              "2917   neutral  ...          negative\n",
              "2918  negative  ...          negative\n",
              "2919  negative  ...          negative\n",
              "2920  negative  ...          negative\n",
              "\n",
              "[2921 rows x 7 columns]"
            ]
          },
          "metadata": {
            "tags": []
          },
          "execution_count": 74
        }
      ]
    },
    {
      "cell_type": "code",
      "metadata": {
        "id": "h5a6wlVyO93j",
        "outputId": "0e4562c9-64ce-4c48-e7d8-3fcce23f7eba",
        "colab": {
          "base_uri": "https://localhost:8080/",
          "height": 402
        }
      },
      "source": [
        "train"
      ],
      "execution_count": null,
      "outputs": [
        {
          "output_type": "execute_result",
          "data": {
            "text/html": [
              "<div>\n",
              "<style scoped>\n",
              "    .dataframe tbody tr th:only-of-type {\n",
              "        vertical-align: middle;\n",
              "    }\n",
              "\n",
              "    .dataframe tbody tr th {\n",
              "        vertical-align: top;\n",
              "    }\n",
              "\n",
              "    .dataframe thead th {\n",
              "        text-align: right;\n",
              "    }\n",
              "</style>\n",
              "<table border=\"1\" class=\"dataframe\">\n",
              "  <thead>\n",
              "    <tr style=\"text-align: right;\">\n",
              "      <th></th>\n",
              "      <th>Sentiment</th>\n",
              "      <th>Tweet</th>\n",
              "    </tr>\n",
              "  </thead>\n",
              "  <tbody>\n",
              "    <tr>\n",
              "      <th>0</th>\n",
              "      <td>neutral</td>\n",
              "      <td>877 amsterdam ewr 02272015 737300</td>\n",
              "    </tr>\n",
              "    <tr>\n",
              "      <th>1</th>\n",
              "      <td>negative</td>\n",
              "      <td>problems link</td>\n",
              "    </tr>\n",
              "    <tr>\n",
              "      <th>2</th>\n",
              "      <td>positive</td>\n",
              "      <td>today staff msp took customer service new leve...</td>\n",
              "    </tr>\n",
              "    <tr>\n",
              "      <th>3</th>\n",
              "      <td>negative</td>\n",
              "      <td>yet receive assistance one agents securing new...</td>\n",
              "    </tr>\n",
              "    <tr>\n",
              "      <th>4</th>\n",
              "      <td>negative</td>\n",
              "      <td>let change reservation online  wasting time</td>\n",
              "    </tr>\n",
              "    <tr>\n",
              "      <th>...</th>\n",
              "      <td>...</td>\n",
              "      <td>...</td>\n",
              "    </tr>\n",
              "    <tr>\n",
              "      <th>11675</th>\n",
              "      <td>negative</td>\n",
              "      <td>hoped  contacted 3 wks ago responded still iss...</td>\n",
              "    </tr>\n",
              "    <tr>\n",
              "      <th>11676</th>\n",
              "      <td>negative</td>\n",
              "      <td>20 minutes hold waiting ridiculous</td>\n",
              "    </tr>\n",
              "    <tr>\n",
              "      <th>11677</th>\n",
              "      <td>neutral</td>\n",
              "      <td>may start service hawaii year</td>\n",
              "    </tr>\n",
              "    <tr>\n",
              "      <th>11678</th>\n",
              "      <td>negative</td>\n",
              "      <td>could even see tried make transaction  offer p...</td>\n",
              "    </tr>\n",
              "    <tr>\n",
              "      <th>11679</th>\n",
              "      <td>positive</td>\n",
              "      <td>able send dm good</td>\n",
              "    </tr>\n",
              "  </tbody>\n",
              "</table>\n",
              "<p>11680 rows × 2 columns</p>\n",
              "</div>"
            ],
            "text/plain": [
              "      Sentiment                                              Tweet\n",
              "0       neutral                  877 amsterdam ewr 02272015 737300\n",
              "1      negative                                      problems link\n",
              "2      positive  today staff msp took customer service new leve...\n",
              "3      negative  yet receive assistance one agents securing new...\n",
              "4      negative       let change reservation online  wasting time \n",
              "...         ...                                                ...\n",
              "11675  negative  hoped  contacted 3 wks ago responded still iss...\n",
              "11676  negative                 20 minutes hold waiting ridiculous\n",
              "11677   neutral                     may start service hawaii year \n",
              "11678  negative  could even see tried make transaction  offer p...\n",
              "11679  positive                                 able send dm good \n",
              "\n",
              "[11680 rows x 2 columns]"
            ]
          },
          "metadata": {
            "tags": []
          },
          "execution_count": 75
        }
      ]
    },
    {
      "cell_type": "code",
      "metadata": {
        "id": "KH2GvuebO-jy"
      },
      "source": [
        "from sklearn.feature_extraction.text import CountVectorizer\n",
        "from sklearn.metrics import confusion_matrix\n",
        "from sklearn.neighbors import KNeighborsClassifier\n",
        "from sklearn import metrics\n",
        "\n",
        "vectorizer = CountVectorizer()\n",
        "X_train = vectorizer.fit_transform(train['Tweet'])\n",
        "X_test = vectorizer.transform(test['Tweet'])"
      ],
      "execution_count": null,
      "outputs": []
    },
    {
      "cell_type": "code",
      "metadata": {
        "id": "YrE-wnynZfFl"
      },
      "source": [
        "def KNNneighbour_eval(n):\n",
        "  neigh = KNeighborsClassifier(n_neighbors=n)\n",
        "  neigh.fit(X_train, train['Sentiment'])\n",
        "\n",
        "  y_expect = test['Sentiment']\n",
        "  y_pred = neigh.predict(X_test)\n",
        "\n",
        "  print(f\"\\nAccuracy score for {n} neighbors:\")\n",
        "  print(metrics.accuracy_score(y_expect, y_pred, normalize=True, sample_weight=None))\n",
        "  print(f\"\\nClassification report for {n} neighbors\\n\")\n",
        "  print(metrics.classification_report(y_expect, y_pred))\n",
        "  print(f\"Confusion matrix for {n} neighbors\\n\")\n",
        "  print(metrics.confusion_matrix(y_expect, y_pred))\n",
        "\n",
        "  report = metrics.classification_report(y_expect, y_pred, output_dict=True)\n",
        "\n",
        "  accuracy = metrics.accuracy_score(y_expect, y_pred, normalize=True, sample_weight=None)\n",
        "  precision = report['macro avg']['precision']\n",
        "  recall = report['macro avg']['recall']\n",
        "  f1score = report['macro avg']['f1-score']\n",
        "\n",
        "  return accuracy, precision, recall, f1score\n"
      ],
      "execution_count": null,
      "outputs": []
    },
    {
      "cell_type": "code",
      "metadata": {
        "id": "jdRpI8nUSLYr",
        "outputId": "e8a8e9db-7046-48aa-af0c-35ded18cb673",
        "colab": {
          "base_uri": "https://localhost:8080/",
          "height": 1000
        }
      },
      "source": [
        "accuracy1, precision1, recall1, f1score1 = KNNneighbour_eval(1)\n",
        "accuracy3, precision3, recall3, f1score3 = KNNneighbour_eval(3)\n",
        "accuracy5, precision5, recall5, f1score5 = KNNneighbour_eval(5)\n",
        "accuracy7, precision7, recall7, f1score7 = KNNneighbour_eval(7)\n",
        "accuracy10, precision10, recall10, f1score10 = KNNneighbour_eval(10)"
      ],
      "execution_count": null,
      "outputs": [
        {
          "output_type": "stream",
          "text": [
            "\n",
            "Accuracy score for 1 neighbors:\n",
            "0.5364601163984937\n",
            "\n",
            "Classification report for 1 neighbors\n",
            "\n",
            "              precision    recall  f1-score   support\n",
            "\n",
            "    negative       0.84      0.48      0.61      1834\n",
            "     neutral       0.32      0.69      0.43       615\n",
            "    positive       0.49      0.57      0.53       472\n",
            "\n",
            "    accuracy                           0.54      2921\n",
            "   macro avg       0.55      0.58      0.52      2921\n",
            "weighted avg       0.67      0.54      0.56      2921\n",
            "\n",
            "Confusion matrix for 1 neighbors\n",
            "\n",
            "[[876 768 190]\n",
            " [106 423  86]\n",
            " [ 64 140 268]]\n",
            "\n",
            "Accuracy score for 3 neighbors:\n",
            "0.5549469359808284\n",
            "\n",
            "Classification report for 3 neighbors\n",
            "\n",
            "              precision    recall  f1-score   support\n",
            "\n",
            "    negative       0.80      0.52      0.63      1834\n",
            "     neutral       0.32      0.67      0.43       615\n",
            "    positive       0.59      0.55      0.57       472\n",
            "\n",
            "    accuracy                           0.55      2921\n",
            "   macro avg       0.57      0.58      0.54      2921\n",
            "weighted avg       0.67      0.55      0.58      2921\n",
            "\n",
            "Confusion matrix for 3 neighbors\n",
            "\n",
            "[[954 760 120]\n",
            " [146 409  60]\n",
            " [ 87 127 258]]\n",
            "\n",
            "Accuracy score for 5 neighbors:\n",
            "0.5487846627867169\n",
            "\n",
            "Classification report for 5 neighbors\n",
            "\n",
            "              precision    recall  f1-score   support\n",
            "\n",
            "    negative       0.83      0.50      0.62      1834\n",
            "     neutral       0.31      0.69      0.43       615\n",
            "    positive       0.59      0.55      0.57       472\n",
            "\n",
            "    accuracy                           0.55      2921\n",
            "   macro avg       0.58      0.58      0.54      2921\n",
            "weighted avg       0.68      0.55      0.57      2921\n",
            "\n",
            "Confusion matrix for 5 neighbors\n",
            "\n",
            "[[918 795 121]\n",
            " [132 426  57]\n",
            " [ 62 151 259]]\n",
            "\n",
            "Accuracy score for 7 neighbors:\n",
            "0.5391989044847655\n",
            "\n",
            "Classification report for 7 neighbors\n",
            "\n",
            "              precision    recall  f1-score   support\n",
            "\n",
            "    negative       0.85      0.47      0.60      1834\n",
            "     neutral       0.31      0.74      0.44       615\n",
            "    positive       0.58      0.56      0.57       472\n",
            "\n",
            "    accuracy                           0.54      2921\n",
            "   macro avg       0.58      0.59      0.54      2921\n",
            "weighted avg       0.69      0.54      0.56      2921\n",
            "\n",
            "Confusion matrix for 7 neighbors\n",
            "\n",
            "[[853 846 135]\n",
            " [ 99 456  60]\n",
            " [ 50 156 266]]\n",
            "\n",
            "Accuracy score for 10 neighbors:\n",
            "0.5241355700102704\n",
            "\n",
            "Classification report for 10 neighbors\n",
            "\n",
            "              precision    recall  f1-score   support\n",
            "\n",
            "    negative       0.87      0.43      0.58      1834\n",
            "     neutral       0.30      0.77      0.44       615\n",
            "    positive       0.59      0.57      0.58       472\n",
            "\n",
            "    accuracy                           0.52      2921\n",
            "   macro avg       0.59      0.59      0.53      2921\n",
            "weighted avg       0.70      0.52      0.55      2921\n",
            "\n",
            "Confusion matrix for 10 neighbors\n",
            "\n",
            "[[791 918 125]\n",
            " [ 80 471  64]\n",
            " [ 43 160 269]]\n"
          ],
          "name": "stdout"
        }
      ]
    },
    {
      "cell_type": "code",
      "metadata": {
        "id": "4ZPOQcqKMgLG",
        "outputId": "6e545e58-1970-443b-a325-ac5ea42168c9",
        "colab": {
          "base_uri": "https://localhost:8080/",
          "height": 279
        }
      },
      "source": [
        "# Plots\n",
        "k = [1,3,5,7,10]\n",
        "all_accuracies = [accuracy1, accuracy3, accuracy5, accuracy7, accuracy10]\n",
        "all_recalls = [recall1, recall3, recall5, recall7, recall10]\n",
        "all_precisions = [precision1, precision3, precision5, precision7, precision10]\n",
        "all_f1 = [f1score1, f1score3, f1score5, f1score7, f1score10]\n",
        "\n",
        "\n",
        "plt.plot(k,all_accuracies, 'r', label='Accuracy')\n",
        "plt.plot(k,all_recalls, 'b', label='Recall')\n",
        "plt.plot(k,all_precisions, 'g', label='Precision')\n",
        "plt.plot(k,all_f1, 'y', label='F1-score')\n",
        "\n",
        "plt.legend()\n",
        "plt.xlabel('K')\n",
        "plt.show()"
      ],
      "execution_count": null,
      "outputs": [
        {
          "output_type": "display_data",
          "data": {
            "image/png": "[encoded data removed]",
            "text/plain": [
              "<Figure size 432x288 with 1 Axes>"
            ]
          },
          "metadata": {
            "tags": [],
            "needs_background": "light"
          }
        }
      ]
    },
    {
      "cell_type": "markdown",
      "metadata": {
        "id": "zD1lUP4Abo8K"
      },
      "source": [
        "### **Part 3**"
      ]
    },
    {
      "cell_type": "code",
      "metadata": {
        "id": "0BHxjPyfbm3F",
        "outputId": "b2930bd2-1860-41de-a0d1-28dab7608a28",
        "colab": {
          "base_uri": "https://localhost:8080/",
          "height": 210
        }
      },
      "source": [
        "!wget https://s3.amazonaws.com/dl4j-distribution/GoogleNews-vectors-negative300.bin.gz"
      ],
      "execution_count": null,
      "outputs": [
        {
          "output_type": "stream",
          "text": [
            "--2020-10-16 15:49:26--  https://s3.amazonaws.com/dl4j-distribution/GoogleNews-vectors-negative300.bin.gz\n",
            "Resolving s3.amazonaws.com (s3.amazonaws.com)... 52.217.101.30\n",
            "Connecting to s3.amazonaws.com (s3.amazonaws.com)|52.217.101.30|:443... connected.\n",
            "HTTP request sent, awaiting response... 200 OK\n",
            "Length: 1647046227 (1.5G) [application/x-gzip]\n",
            "Saving to: ‘GoogleNews-vectors-negative300.bin.gz.1’\n",
            "\n",
            "GoogleNews-vectors- 100%[===================>]   1.53G  71.1MB/s    in 26s     \n",
            "\n",
            "2020-10-16 15:49:52 (61.1 MB/s) - ‘GoogleNews-vectors-negative300.bin.gz.1’ saved [1647046227/1647046227]\n",
            "\n"
          ],
          "name": "stdout"
        }
      ]
    },
    {
      "cell_type": "code",
      "metadata": {
        "id": "fuTrHJg8dCec"
      },
      "source": [
        "from gensim.models import Word2Vec, KeyedVectors"
      ],
      "execution_count": null,
      "outputs": []
    },
    {
      "cell_type": "code",
      "metadata": {
        "id": "8wzg4SeudKX5",
        "outputId": "ddd6facd-a0e3-4d0b-eccc-f7688c7bc9a8",
        "colab": {
          "base_uri": "https://localhost:8080/",
          "height": 72
        }
      },
      "source": [
        "word2vec = KeyedVectors.load_word2vec_format(\"GoogleNews-vectors-negative300.bin.gz\", binary=True)"
      ],
      "execution_count": null,
      "outputs": [
        {
          "output_type": "stream",
          "text": [
            "/usr/local/lib/python3.6/dist-packages/smart_open/smart_open_lib.py:252: UserWarning: This function is deprecated, use smart_open.open instead. See the migration notes for details: https://github.com/RaRe-Technologies/smart_open/blob/master/README.rst#migrating-to-the-new-open-function\n",
            "  'See the migration notes for details: %s' % _MIGRATION_NOTES_URL\n"
          ],
          "name": "stderr"
        }
      ]
    },
    {
      "cell_type": "markdown",
      "metadata": {
        "id": "0XPA6M85aD2c"
      },
      "source": [
        "Part 3 part 1"
      ]
    },
    {
      "cell_type": "code",
      "metadata": {
        "id": "ng4tr2QsGEQO"
      },
      "source": [
        "def extract_features(text):\n",
        "  words = [word for word in text.split() if word in word2vec.vocab]\n",
        "  if not words:\n",
        "    return [0]*300\n",
        "  else:\n",
        "    return np.mean(word2vec[words], axis=0)"
      ],
      "execution_count": 179,
      "outputs": []
    },
    {
      "cell_type": "code",
      "metadata": {
        "id": "8zSezjmMW7HF"
      },
      "source": [
        "test = pd.read_csv (r'test.csv')\n",
        "train = pd.read_csv (r'train.csv')"
      ],
      "execution_count": 180,
      "outputs": []
    },
    {
      "cell_type": "code",
      "metadata": {
        "id": "5DW5n9-6SbDf"
      },
      "source": [
        "training_data_in_word2vec = []\n",
        "for x in train['Tweet']:\n",
        "  text_embedding = extract_features(x)\n",
        "  training_data_in_word2vec.append(text_embedding)\n",
        "\n",
        "testing_data_in_word2vec = []\n",
        "for x in test['Tweet']:\n",
        "  text_embedding = extract_features(x)\n",
        "  testing_data_in_word2vec.append(text_embedding)"
      ],
      "execution_count": 181,
      "outputs": []
    },
    {
      "cell_type": "code",
      "metadata": {
        "id": "RbQb939hZGkw"
      },
      "source": [
        "def distance_vect(testing, training):\n",
        "    difference = np.subtract(testing, training)\n",
        "    squared = np.square(difference)\n",
        "    sum = np.sum(squared)\n",
        "    return np.sqrt(sum)"
      ],
      "execution_count": 182,
      "outputs": []
    },
    {
      "cell_type": "code",
      "metadata": {
        "id": "yo-8D1_6esr_"
      },
      "source": [
        "from tqdm import tqdm\n",
        "\n",
        "def KNN_implement(k, train_words, test_words, testLabels, trainLabels):\n",
        "  \n",
        "  predicted_sentiment_array=[]\n",
        "  for i, ilabel in tqdm(zip(test_words, testLabels), position=0, leave=True):\n",
        "    all_distances_sentiments = [] \n",
        "    for j, jlabel in zip(train_words, trainLabels):\n",
        "      dist=distance_vect(i, j)\n",
        "      distance_sentiment_array = (dist,jlabel)\n",
        "      all_distances_sentiments.append(distance_sentiment_array)  \n",
        "    \n",
        "    all_distances_sentiments.sort(key=itemgetter(0))\n",
        "    value = all_distances_sentiments[:k]\n",
        "    if k == 1:\n",
        "      list_1 = value[0]\n",
        "    else:\n",
        "      list_1 = max(set(value), key=value.count)\n",
        "\n",
        "    predicted_sentiment_array.append(list_1[1])\n",
        "  \n",
        "  return predicted_sentiment_array"
      ],
      "execution_count": 183,
      "outputs": []
    },
    {
      "cell_type": "code",
      "metadata": {
        "id": "LpkL84UuXOT-",
        "outputId": "ceb8d2aa-89c9-41bf-863b-98735e035d30",
        "colab": {
          "base_uri": "https://localhost:8080/",
          "height": 34
        }
      },
      "source": [
        "test['Predicted for k1'] = KNN_implement(1, training_data_in_word2vec, testing_data_in_word2vec, test['Sentiment'], train['Sentiment'])"
      ],
      "execution_count": 184,
      "outputs": [
        {
          "output_type": "stream",
          "text": [
            "2921it [05:40,  8.59it/s]\n"
          ],
          "name": "stderr"
        }
      ]
    },
    {
      "cell_type": "code",
      "metadata": {
        "id": "yxAMREH3XOSs",
        "outputId": "1bc86a27-784a-4926-eb99-01dcc8afdbd0",
        "colab": {
          "base_uri": "https://localhost:8080/",
          "height": 289
        }
      },
      "source": [
        "# Accuracy\n",
        "count = 0\n",
        "for x in range(2921):\n",
        "  if test['Sentiment'][x] == test['Predicted for k1'][x]:\n",
        "    count += 1\n",
        "\n",
        "accuracy_1 = count/2921\n",
        "print(f'Accuracy for k1 is: {accuracy_1}')\n",
        "\n",
        "# Totals\n",
        "total_recall_1 = 0\n",
        "total_precision_1 = 0\n",
        "total_f1_1 = 0\n",
        "\n",
        "# Neutral\n",
        "tp, tn, fp, fn =  compute_tp_tn_fn_fp(test['Sentiment'], test['Predicted for k1'], 'neutral')\n",
        "\n",
        "# Recall for neutral \n",
        "recall = compute_recall(tp, fn)\n",
        "total_recall_1 = total_recall_1 + recall\n",
        "print(f'Recall for neutral is: {recall}')\n",
        "\n",
        "# Precision for neutral\n",
        "precision = compute_precision(tp, fp)\n",
        "total_precision_1 = total_precision_1 + precision\n",
        "print(f'Precision for neutral is: {precision}')\n",
        "\n",
        "# F1 score for neutral\n",
        "f1_score = compute_f1_score(precision, recall)\n",
        "total_f1_1 = total_f1_1 + f1_score\n",
        "print(f'F1 score for neutral is: {f1_score}\\n')\n",
        "\n",
        "# Positive\n",
        "tp, tn, fp, fn =  compute_tp_tn_fn_fp(test['Sentiment'], test['Predicted for k1'], 'positive')\n",
        "\n",
        "# Recall for positive \n",
        "recall = compute_recall(tp, fn)\n",
        "total_recall_1 = total_recall_1 + recall\n",
        "print(f'Recall for positive is: {recall}')\n",
        "\n",
        "# Precision for positive\n",
        "precision = compute_precision(tp, fp)\n",
        "total_precision_1 = total_precision_1 + precision\n",
        "print(f'Precision for positive is: {precision}')\n",
        "\n",
        "# F1 score for positive\n",
        "f1_score = compute_f1_score(precision, recall)\n",
        "total_f1_1 = total_f1_1 + f1_score\n",
        "print(f'F1 score for positive is: {f1_score}\\n')\n",
        "\n",
        "# Negative\n",
        "tp, tn, fp, fn =  compute_tp_tn_fn_fp(test['Sentiment'], test['Predicted for k1'], 'negative')\n",
        "\n",
        "# Recall for negative \n",
        "recall = compute_recall(tp, fn)\n",
        "total_recall_1 = total_recall_1 + recall\n",
        "print(f'Recall for negative is: {recall}')\n",
        "\n",
        "# Precision for negative\n",
        "precision = compute_precision(tp, fp)\n",
        "total_precision_1 = total_precision_1 + precision\n",
        "print(f'Precision for negative is: {precision}')\n",
        "\n",
        "# F1 score for negative\n",
        "f1_score = compute_f1_score(precision, recall)\n",
        "total_f1_1 = total_f1_1 + f1_score\n",
        "print(f'F1 score for negative is: {f1_score}\\n')\n",
        "\n",
        "total_recall_1 = total_recall_1/3\n",
        "total_precision_1 = total_precision_1/3\n",
        "total_f1_1 = total_f1_1/3\n",
        "\n",
        "print(f'Total recall is: {total_recall_1}')\n",
        "print(f'Total precision is: {total_precision_1}')\n",
        "print(f'Total F1 score is: {total_f1_1}')"
      ],
      "execution_count": 185,
      "outputs": [
        {
          "output_type": "stream",
          "text": [
            "Accuracy for k1 is: 0.6713454296473811\n",
            "Recall for neutral is: 0.45670995670995673\n",
            "Precision for neutral is: 0.34308943089430893\n",
            "F1 score for neutral is: 0.39182915506035276\n",
            "\n",
            "Recall for positive is: 0.546448087431694\n",
            "Precision for positive is: 0.423728813559322\n",
            "F1 score for positive is: 0.477326968973747\n",
            "\n",
            "Recall for negative is: 0.7405637840420449\n",
            "Precision for negative is: 0.8451472191930207\n",
            "F1 score for negative is: 0.789406671759613\n",
            "\n",
            "Total recall is: 0.5812406093945652\n",
            "Total precision is: 0.5373218212155505\n",
            "Total F1 score is: 0.5528542652645708\n"
          ],
          "name": "stdout"
        }
      ]
    },
    {
      "cell_type": "code",
      "metadata": {
        "id": "-EYHcbb_bRP2",
        "outputId": "e0c25111-2967-4a1c-b727-5c9ef50012a6",
        "colab": {
          "base_uri": "https://localhost:8080/",
          "height": 34
        }
      },
      "source": [
        "test['Predicted for k3'] = KNN_implement(3, training_data_in_word2vec, testing_data_in_word2vec, test['Sentiment'], train['Sentiment'])"
      ],
      "execution_count": 186,
      "outputs": [
        {
          "output_type": "stream",
          "text": [
            "2921it [05:41,  8.56it/s]\n"
          ],
          "name": "stderr"
        }
      ]
    },
    {
      "cell_type": "code",
      "metadata": {
        "id": "SPD8HWPwXOM3",
        "outputId": "0142fdfd-dfba-4baa-c947-72e3176c6167",
        "colab": {
          "base_uri": "https://localhost:8080/",
          "height": 289
        }
      },
      "source": [
        "# Accuracy\n",
        "count = 0\n",
        "for x in range(2921):\n",
        "  if test['Sentiment'][x] == test['Predicted for k3'][x]:\n",
        "    count += 1\n",
        "\n",
        "accuracy_3 = count/2921\n",
        "print(f'Accuracy for k3 is: {accuracy_3}')\n",
        "\n",
        "# Totals\n",
        "total_recall_3 = 0\n",
        "total_precision_3 = 0\n",
        "total_f1_3 = 0\n",
        "\n",
        "# Neutral\n",
        "tp, tn, fp, fn =  compute_tp_tn_fn_fp(test['Sentiment'], test['Predicted for k3'], 'neutral')\n",
        "\n",
        "# Recall for neutral \n",
        "recall = compute_recall(tp, fn)\n",
        "total_recall_3 = total_recall_3 + recall\n",
        "print(f'Recall for neutral is: {recall}')\n",
        "\n",
        "# Precision for neutral\n",
        "precision = compute_precision(tp, fp)\n",
        "total_precision_3 = total_precision_3 + precision\n",
        "print(f'Precision for neutral is: {precision}')\n",
        "\n",
        "# F1 score for neutral\n",
        "f1_score = compute_f1_score(precision, recall)\n",
        "total_f1_3 = total_f1_3 + f1_score\n",
        "print(f'F1 score for neutral is: {f1_score}\\n')\n",
        "\n",
        "# Positive\n",
        "tp, tn, fp, fn =  compute_tp_tn_fn_fp(test['Sentiment'], test['Predicted for k3'], 'positive')\n",
        "\n",
        "# Recall for positive \n",
        "recall = compute_recall(tp, fn)\n",
        "total_recall_3 = total_recall_3 + recall\n",
        "print(f'Recall for positive is: {recall}')\n",
        "\n",
        "# Precision for positive\n",
        "precision = compute_precision(tp, fp)\n",
        "total_precision_3 = total_precision_3 + precision\n",
        "print(f'Precision for positive is: {precision}')\n",
        "\n",
        "# F1 score for positive\n",
        "f1_score = compute_f1_score(precision, recall)\n",
        "total_f1_3 = total_f1_3 + f1_score\n",
        "print(f'F1 score for positive is: {f1_score}\\n')\n",
        "\n",
        "# Negative\n",
        "tp, tn, fp, fn =  compute_tp_tn_fn_fp(test['Sentiment'], test['Predicted for k3'], 'negative')\n",
        "\n",
        "# Recall for negative \n",
        "recall = compute_recall(tp, fn)\n",
        "total_recall_3 = total_recall_3 + recall\n",
        "print(f'Recall for negative is: {recall}')\n",
        "\n",
        "# Precision for negative\n",
        "precision = compute_precision(tp, fp)\n",
        "total_precision_3 = total_precision_3 + precision\n",
        "print(f'Precision for negative is: {precision}')\n",
        "\n",
        "# F1 score for negative\n",
        "f1_score = compute_f1_score(precision, recall)\n",
        "total_f1_3 = total_f1_3 + f1_score\n",
        "print(f'F1 score for negative is: {f1_score}\\n')\n",
        "\n",
        "total_recall_3 = total_recall_3/3\n",
        "total_precision_3 = total_precision_3/3\n",
        "total_f1_3 = total_f1_3/3\n",
        "\n",
        "print(f'Total recall is: {total_recall_3}')\n",
        "print(f'Total precision is: {total_precision_3}')\n",
        "print(f'Total F1 score is: {total_f1_3}')"
      ],
      "execution_count": 187,
      "outputs": [
        {
          "output_type": "stream",
          "text": [
            "Accuracy for k3 is: 0.6484080794248545\n",
            "Recall for neutral is: 0.4621409921671018\n",
            "Precision for neutral is: 0.28780487804878047\n",
            "F1 score for neutral is: 0.3547094188376753\n",
            "\n",
            "Recall for positive is: 0.46397188049209137\n",
            "Precision for positive is: 0.559322033898305\n",
            "F1 score for positive is: 0.5072046109510085\n",
            "\n",
            "Recall for negative is: 0.7379380396140173\n",
            "Precision for negative is: 0.792257360959651\n",
            "F1 score for negative is: 0.7641335787536155\n",
            "\n",
            "Total recall is: 0.5546836374244034\n",
            "Total precision is: 0.5464614243022455\n",
            "Total F1 score is: 0.5420158695140999\n"
          ],
          "name": "stdout"
        }
      ]
    },
    {
      "cell_type": "code",
      "metadata": {
        "id": "43_BgzWVXOK-",
        "outputId": "456ee3c8-94a6-4676-c6a3-1c4df0c7c01c",
        "colab": {
          "base_uri": "https://localhost:8080/",
          "height": 34
        }
      },
      "source": [
        "test['Predicted for k5'] = KNN_implement(5, training_data_in_word2vec, testing_data_in_word2vec, test['Sentiment'], train['Sentiment'])"
      ],
      "execution_count": 188,
      "outputs": [
        {
          "output_type": "stream",
          "text": [
            "2921it [05:40,  8.57it/s]\n"
          ],
          "name": "stderr"
        }
      ]
    },
    {
      "cell_type": "code",
      "metadata": {
        "id": "Y1KgnQHfXOIp",
        "outputId": "0dd7ae36-315f-4987-e56b-d0db67f40070",
        "colab": {
          "base_uri": "https://localhost:8080/",
          "height": 289
        }
      },
      "source": [
        "# Accuracy\n",
        "count = 0\n",
        "for x in range(2921):\n",
        "  if test['Sentiment'][x] == test['Predicted for k5'][x]:\n",
        "    count += 1\n",
        "\n",
        "accuracy_5 = count/2921\n",
        "print(f'Accuracy for k5 is: {accuracy_5}')\n",
        "\n",
        "# Totals\n",
        "total_recall_5 = 0\n",
        "total_precision_5 = 0\n",
        "total_f1_5 = 0\n",
        "\n",
        "# Neutral\n",
        "tp, tn, fp, fn =  compute_tp_tn_fn_fp(test['Sentiment'], test['Predicted for k5'], 'neutral')\n",
        "\n",
        "# Recall for neutral \n",
        "recall = compute_recall(tp, fn)\n",
        "total_recall_5 = total_recall_5 + recall\n",
        "print(f'Recall for neutral is: {recall}')\n",
        "\n",
        "# Precision for neutral\n",
        "precision = compute_precision(tp, fp)\n",
        "total_precision_5 = total_precision_5 + precision\n",
        "print(f'Precision for neutral is: {precision}')\n",
        "\n",
        "# F1 score for neutral\n",
        "f1_score = compute_f1_score(precision, recall)\n",
        "total_f1_5 = total_f1_5 + f1_score\n",
        "print(f'F1 score for neutral is: {f1_score}\\n')\n",
        "\n",
        "# Positive\n",
        "tp, tn, fp, fn =  compute_tp_tn_fn_fp(test['Sentiment'], test['Predicted for k5'], 'positive')\n",
        "\n",
        "# Recall for positive \n",
        "recall = compute_recall(tp, fn)\n",
        "total_recall_5 = total_recall_5 + recall\n",
        "print(f'Recall for positive is: {recall}')\n",
        "\n",
        "# Precision for positive\n",
        "precision = compute_precision(tp, fp)\n",
        "total_precision_5 = total_precision_5 + precision\n",
        "print(f'Precision for positive is: {precision}')\n",
        "\n",
        "# F1 score for positive\n",
        "f1_score = compute_f1_score(precision, recall)\n",
        "total_f1_5 = total_f1_5 + f1_score\n",
        "print(f'F1 score for positive is: {f1_score}\\n')\n",
        "\n",
        "# Negative\n",
        "tp, tn, fp, fn =  compute_tp_tn_fn_fp(test['Sentiment'], test['Predicted for k5'], 'negative')\n",
        "\n",
        "# Recall for negative \n",
        "recall = compute_recall(tp, fn)\n",
        "total_recall_5 = total_recall_5 + recall\n",
        "print(f'Recall for negative is: {recall}')\n",
        "\n",
        "# Precision for negative\n",
        "precision = compute_precision(tp, fp)\n",
        "total_precision_5 = total_precision_5 + precision\n",
        "print(f'Precision for negative is: {precision}')\n",
        "\n",
        "# F1 score for negative\n",
        "f1_score = compute_f1_score(precision, recall)\n",
        "total_f1_5 = total_f1_5 + f1_score\n",
        "print(f'F1 score for negative is: {f1_score}\\n')\n",
        "\n",
        "total_recall_5 = total_recall_5/3\n",
        "total_precision_5 = total_precision_5/3\n",
        "total_f1_5 = total_f1_5/3\n",
        "\n",
        "print(f'Total recall is: {total_recall_5}')\n",
        "print(f'Total precision is: {total_precision_5}')\n",
        "print(f'Total F1 score is: {total_f1_5}')"
      ],
      "execution_count": 189,
      "outputs": [
        {
          "output_type": "stream",
          "text": [
            "Accuracy for k5 is: 0.6484080794248545\n",
            "Recall for neutral is: 0.7327586206896551\n",
            "Precision for neutral is: 0.13821138211382114\n",
            "F1 score for neutral is: 0.23255813953488375\n",
            "\n",
            "Recall for positive is: 0.4140302613480055\n",
            "Precision for positive is: 0.6377118644067796\n",
            "F1 score for positive is: 0.5020850708924103\n",
            "\n",
            "Recall for negative is: 0.7256977863330125\n",
            "Precision for negative is: 0.822246455834242\n",
            "F1 score for negative is: 0.7709611451942742\n",
            "\n",
            "Total recall is: 0.6241622227902244\n",
            "Total precision is: 0.5327232341182809\n",
            "Total F1 score is: 0.5018681185405227\n"
          ],
          "name": "stdout"
        }
      ]
    },
    {
      "cell_type": "code",
      "metadata": {
        "id": "78-8_KKnbhsh",
        "outputId": "a12944f2-f4e7-41e2-87e3-33b04e82c654",
        "colab": {
          "base_uri": "https://localhost:8080/",
          "height": 34
        }
      },
      "source": [
        "test['Predicted for k7'] = KNN_implement(7, training_data_in_word2vec, testing_data_in_word2vec, test['Sentiment'], train['Sentiment'])"
      ],
      "execution_count": 190,
      "outputs": [
        {
          "output_type": "stream",
          "text": [
            "2921it [05:35,  8.69it/s]\n"
          ],
          "name": "stderr"
        }
      ]
    },
    {
      "cell_type": "code",
      "metadata": {
        "id": "eI7M8j_ibh15",
        "outputId": "771870a6-ea0b-401d-8f07-453bed53f5c5",
        "colab": {
          "base_uri": "https://localhost:8080/",
          "height": 289
        }
      },
      "source": [
        "# Accuracy\n",
        "count = 0\n",
        "for x in range(2921):\n",
        "  if test['Sentiment'][x] == test['Predicted for k7'][x]:\n",
        "    count += 1\n",
        "\n",
        "accuracy_7 = count/2921\n",
        "print(f'Accuracy for k7 is: {accuracy_7}')\n",
        "\n",
        "# Totals\n",
        "total_recall_7 = 0\n",
        "total_precision_7 = 0\n",
        "total_f1_7 = 0\n",
        "\n",
        "# Neutral\n",
        "tp, tn, fp, fn =  compute_tp_tn_fn_fp(test['Sentiment'], test['Predicted for k7'], 'neutral')\n",
        "\n",
        "# Recall for neutral \n",
        "recall = compute_recall(tp, fn)\n",
        "total_recall_7 = total_recall_7 + recall\n",
        "print(f'Recall for neutral is: {recall}')\n",
        "\n",
        "# Precision for neutral\n",
        "precision = compute_precision(tp, fp)\n",
        "total_precision_7 = total_precision_7 + precision\n",
        "print(f'Precision for neutral is: {precision}')\n",
        "\n",
        "# F1 score for neutral\n",
        "f1_score = compute_f1_score(precision, recall)\n",
        "total_f1_7 = total_f1_7 + f1_score\n",
        "print(f'F1 score for neutral is: {f1_score}\\n')\n",
        "\n",
        "# Positive\n",
        "tp, tn, fp, fn =  compute_tp_tn_fn_fp(test['Sentiment'], test['Predicted for k7'], 'positive')\n",
        "\n",
        "# Recall for positive \n",
        "recall = compute_recall(tp, fn)\n",
        "total_recall_7 = total_recall_7 + recall\n",
        "print(f'Recall for positive is: {recall}')\n",
        "\n",
        "# Precision for positive\n",
        "precision = compute_precision(tp, fp)\n",
        "total_precision_7 = total_precision_7 + precision\n",
        "print(f'Precision for positive is: {precision}')\n",
        "\n",
        "# F1 score for positive\n",
        "f1_score = compute_f1_score(precision, recall)\n",
        "total_f1_7 = total_f1_7 + f1_score\n",
        "print(f'F1 score for positive is: {f1_score}\\n')\n",
        "\n",
        "# Negative\n",
        "tp, tn, fp, fn =  compute_tp_tn_fn_fp(test['Sentiment'], test['Predicted for k7'], 'negative')\n",
        "\n",
        "# Recall for negative \n",
        "recall = compute_recall(tp, fn)\n",
        "total_recall_7 = total_recall_7 + recall\n",
        "print(f'Recall for negative is: {recall}')\n",
        "\n",
        "# Precision for negative\n",
        "precision = compute_precision(tp, fp)\n",
        "total_precision_7 = total_precision_7 + precision\n",
        "print(f'Precision for negative is: {precision}')\n",
        "\n",
        "# F1 score for negative\n",
        "f1_score = compute_f1_score(precision, recall)\n",
        "total_f1_7 = total_f1_7 + f1_score\n",
        "print(f'F1 score for negative is: {f1_score}\\n')\n",
        "\n",
        "total_recall_7 = total_recall_7/3\n",
        "total_precision_7 = total_precision_7/3\n",
        "total_f1_7 = total_f1_7/3\n",
        "\n",
        "print(f'Total recall is: {total_recall_7}')\n",
        "print(f'Total precision is: {total_precision_7}')\n",
        "print(f'Total F1 score is: {total_f1_7}')"
      ],
      "execution_count": 191,
      "outputs": [
        {
          "output_type": "stream",
          "text": [
            "Accuracy for k7 is: 0.6138308798356727\n",
            "Recall for neutral is: 0.6981132075471698\n",
            "Precision for neutral is: 0.12032520325203253\n",
            "F1 score for neutral is: 0.20527045769764216\n",
            "\n",
            "Recall for positive is: 0.35903337169159955\n",
            "Precision for positive is: 0.6610169491525424\n",
            "F1 score for positive is: 0.4653243847874721\n",
            "\n",
            "Recall for negative is: 0.7230215827338129\n",
            "Precision for negative is: 0.767175572519084\n",
            "F1 score for negative is: 0.7444444444444444\n",
            "\n",
            "Total recall is: 0.5933893873241941\n",
            "Total precision is: 0.5161725749745529\n",
            "Total F1 score is: 0.4716797623098528\n"
          ],
          "name": "stdout"
        }
      ]
    },
    {
      "cell_type": "code",
      "metadata": {
        "id": "qvxmaPhEbhzt",
        "outputId": "81dd5247-6ad8-4fe5-8fb3-25d9afb4e073",
        "colab": {
          "base_uri": "https://localhost:8080/",
          "height": 34
        }
      },
      "source": [
        "test['Predicted for k10'] = KNN_implement(10, training_data_in_word2vec, testing_data_in_word2vec, test['Sentiment'], train['Sentiment'])"
      ],
      "execution_count": 192,
      "outputs": [
        {
          "output_type": "stream",
          "text": [
            "2921it [05:36,  8.68it/s]\n"
          ],
          "name": "stderr"
        }
      ]
    },
    {
      "cell_type": "code",
      "metadata": {
        "id": "zW6cO8Q6bhx2",
        "outputId": "a4edd3cf-9fbb-491c-e69f-19c79243d751",
        "colab": {
          "base_uri": "https://localhost:8080/",
          "height": 289
        }
      },
      "source": [
        "# Accuracy\n",
        "count = 0\n",
        "for x in range(2921):\n",
        "  if test['Sentiment'][x] == test['Predicted for k10'][x]:\n",
        "    count += 1\n",
        "\n",
        "accuracy_10 = count/2921\n",
        "print(f'Accuracy for k1 is: {accuracy_10}')\n",
        "\n",
        "# Totals\n",
        "total_recall_10 = 0\n",
        "total_precision_10 = 0\n",
        "total_f1_10 = 0\n",
        "\n",
        "# Neutral\n",
        "tp, tn, fp, fn =  compute_tp_tn_fn_fp(test['Sentiment'], test['Predicted for k10'], 'neutral')\n",
        "\n",
        "# Recall for neutral \n",
        "recall = compute_recall(tp, fn)\n",
        "total_recall_10 = total_recall_10 + recall\n",
        "print(f'Recall for neutral is: {recall}')\n",
        "\n",
        "# Precision for neutral\n",
        "precision = compute_precision(tp, fp)\n",
        "total_precision_10 = total_precision_10 + precision\n",
        "print(f'Precision for neutral is: {precision}')\n",
        "\n",
        "# F1 score for neutral\n",
        "f1_score = compute_f1_score(precision, recall)\n",
        "total_f1_10 = total_f1_10 + f1_score\n",
        "print(f'F1 score for neutral is: {f1_score}\\n')\n",
        "\n",
        "# Positive\n",
        "tp, tn, fp, fn =  compute_tp_tn_fn_fp(test['Sentiment'], test['Predicted for k10'], 'positive')\n",
        "\n",
        "# Recall for positive \n",
        "recall = compute_recall(tp, fn)\n",
        "total_recall_10 = total_recall_10 + recall\n",
        "print(f'Recall for positive is: {recall}')\n",
        "\n",
        "# Precision for positive\n",
        "precision = compute_precision(tp, fp)\n",
        "total_precision_10 = total_precision_10 + precision\n",
        "print(f'Precision for positive is: {precision}')\n",
        "\n",
        "# F1 score for positive\n",
        "f1_score = compute_f1_score(precision, recall)\n",
        "total_f1_10 = total_f1_10 + f1_score\n",
        "print(f'F1 score for positive is: {f1_score}\\n')\n",
        "\n",
        "# Negative\n",
        "tp, tn, fp, fn =  compute_tp_tn_fn_fp(test['Sentiment'], test['Predicted for k10'], 'negative')\n",
        "\n",
        "# Recall for negative \n",
        "recall = compute_recall(tp, fn)\n",
        "total_recall_10 = total_recall_10 + recall\n",
        "print(f'Recall for negative is: {recall}')\n",
        "\n",
        "# Precision for negative\n",
        "precision = compute_precision(tp, fp)\n",
        "total_precision_10 = total_precision_10 + precision\n",
        "print(f'Precision for negative is: {precision}')\n",
        "\n",
        "# F1 score for negative\n",
        "f1_score = compute_f1_score(precision, recall)\n",
        "total_f1_10 = total_f1_10 + f1_score\n",
        "print(f'F1 score for negative is: {f1_score}\\n')\n",
        "\n",
        "total_recall_10 = total_recall_10/3\n",
        "total_precision_10 = total_precision_10/3\n",
        "total_f1_10 = total_f1_10/3\n",
        "\n",
        "print(f'Total recall is: {total_recall_10}')\n",
        "print(f'Total precision is: {total_precision_10}')\n",
        "print(f'Total F1 score is: {total_f1_10}')"
      ],
      "execution_count": 193,
      "outputs": [
        {
          "output_type": "stream",
          "text": [
            "Accuracy for k1 is: 0.5816501198219788\n",
            "Recall for neutral is: 0.6697247706422018\n",
            "Precision for neutral is: 0.11869918699186992\n",
            "F1 score for neutral is: 0.20165745856353592\n",
            "\n",
            "Recall for positive is: 0.3200775945683802\n",
            "Precision for positive is: 0.6991525423728814\n",
            "F1 score for positive is: 0.43912175648702595\n",
            "\n",
            "Recall for negative is: 0.7276810780460415\n",
            "Precision for negative is: 0.7066521264994547\n",
            "F1 score for negative is: 0.7170124481327802\n",
            "\n",
            "Total recall is: 0.5724944810855411\n",
            "Total precision is: 0.5081679519547353\n",
            "Total F1 score is: 0.45259722106111405\n"
          ],
          "name": "stdout"
        }
      ]
    },
    {
      "cell_type": "code",
      "metadata": {
        "id": "ysy5LF01XOGo",
        "outputId": "8ef6dbf4-f9c1-4ccb-f8fd-b645c8b2473b",
        "colab": {
          "base_uri": "https://localhost:8080/",
          "height": 279
        }
      },
      "source": [
        "# Plots\n",
        "import matplotlib.pyplot as plt\n",
        "\n",
        "k = [1,3,5,7,10]\n",
        "all_accuracies = [accuracy_1, accuracy_3, accuracy_5, accuracy_7, accuracy_10]\n",
        "all_recalls = [total_recall_1, total_recall_3, total_recall_5, total_recall_7, total_recall_10]\n",
        "all_precisions = [total_precision_1, total_precision_3, total_precision_5, total_precision_7, total_precision_10]\n",
        "all_f1 = [total_f1_1, total_f1_3, total_f1_5, total_f1_7, total_f1_10]\n",
        "\n",
        "\n",
        "plt.plot(k,all_accuracies, 'r', label='Accuracy')\n",
        "plt.plot(k,all_recalls, 'b', label='Recall')\n",
        "plt.plot(k,all_precisions, 'g', label='Precision')\n",
        "plt.plot(k,all_f1, 'y', label='F1-score')\n",
        "\n",
        "plt.legend()\n",
        "plt.xlabel('K')\n",
        "plt.show()"
      ],
      "execution_count": 194,
      "outputs": [
        {
          "output_type": "display_data",
          "data": {
            "image/png": "[encoded data removed]",
            "text/plain": [
              "<Figure size 432x288 with 1 Axes>"
            ]
          },
          "metadata": {
            "tags": [],
            "needs_background": "light"
          }
        }
      ]
    },
    {
      "cell_type": "markdown",
      "metadata": {
        "id": "krkiEFfyZ_Kg"
      },
      "source": [
        "Part 3 part 2"
      ]
    },
    {
      "cell_type": "code",
      "metadata": {
        "id": "d8QIOvPaXN_W"
      },
      "source": [
        "def KNNneighbour_eval(n):\n",
        "  neigh = KNeighborsClassifier(n_neighbors=n)\n",
        "  neigh.fit(training_data_in_word2vec, train['Sentiment'])\n",
        "\n",
        "  y_expect = test['Sentiment']\n",
        "  y_pred = neigh.predict(testing_data_in_word2vec)\n",
        "\n",
        "  print(f\"\\nAccuracy score for {n} neighbors:\")\n",
        "  print(metrics.accuracy_score(y_expect, y_pred, normalize=True, sample_weight=None))\n",
        "  print(f\"\\nClassification report for {n} neighbors\\n\")\n",
        "  print(metrics.classification_report(y_expect, y_pred))\n",
        "  print(f\"Confusion matrix for {n} neighbors\\n\")\n",
        "  print(metrics.confusion_matrix(y_expect, y_pred))\n",
        "\n",
        "  report = metrics.classification_report(y_expect, y_pred, output_dict=True)\n",
        "\n",
        "  accuracy = metrics.accuracy_score(y_expect, y_pred, normalize=True, sample_weight=None)\n",
        "  precision = report['macro avg']['precision']\n",
        "  recall = report['macro avg']['recall']\n",
        "  f1score = report['macro avg']['f1-score']\n",
        "\n",
        "  return accuracy, precision, recall, f1score"
      ],
      "execution_count": 195,
      "outputs": []
    },
    {
      "cell_type": "code",
      "metadata": {
        "id": "DQ69wEd4S9mq",
        "outputId": "04e8d830-4e33-4d8b-eb42-eccdccea61d6",
        "colab": {
          "base_uri": "https://localhost:8080/",
          "height": 1000
        }
      },
      "source": [
        "accuracy1, precision1, recall1, f1score1 = KNNneighbour_eval(1)\n",
        "accuracy3, precision3, recall3, f1score3 = KNNneighbour_eval(3)\n",
        "accuracy5, precision5, recall5, f1score5 = KNNneighbour_eval(5)\n",
        "accuracy7, precision7, recall7, f1score7 = KNNneighbour_eval(7)\n",
        "accuracy10, precision10, recall10, f1score10 = KNNneighbour_eval(10)"
      ],
      "execution_count": 196,
      "outputs": [
        {
          "output_type": "stream",
          "text": [
            "\n",
            "Accuracy score for 1 neighbors:\n",
            "0.6689489900718932\n",
            "\n",
            "Classification report for 1 neighbors\n",
            "\n",
            "              precision    recall  f1-score   support\n",
            "\n",
            "    negative       0.73      0.85      0.79      1834\n",
            "     neutral       0.45      0.34      0.39       615\n",
            "    positive       0.55      0.41      0.47       472\n",
            "\n",
            "    accuracy                           0.67      2921\n",
            "   macro avg       0.58      0.53      0.55      2921\n",
            "weighted avg       0.65      0.67      0.65      2921\n",
            "\n",
            "Confusion matrix for 1 neighbors\n",
            "\n",
            "[[1551  184   99]\n",
            " [ 349  211   55]\n",
            " [ 211   69  192]]\n",
            "\n",
            "Accuracy score for 3 neighbors:\n",
            "0.7059226292365628\n",
            "\n",
            "Classification report for 3 neighbors\n",
            "\n",
            "              precision    recall  f1-score   support\n",
            "\n",
            "    negative       0.72      0.94      0.81      1834\n",
            "     neutral       0.60      0.27      0.38       615\n",
            "    positive       0.73      0.35      0.47       472\n",
            "\n",
            "    accuracy                           0.71      2921\n",
            "   macro avg       0.68      0.52      0.55      2921\n",
            "weighted avg       0.69      0.71      0.67      2921\n",
            "\n",
            "Confusion matrix for 3 neighbors\n",
            "\n",
            "[[1729   79   26]\n",
            " [ 411  168   36]\n",
            " [ 274   33  165]]\n",
            "\n",
            "Accuracy score for 5 neighbors:\n",
            "0.701472098596371\n",
            "\n",
            "Classification report for 5 neighbors\n",
            "\n",
            "              precision    recall  f1-score   support\n",
            "\n",
            "    negative       0.70      0.96      0.81      1834\n",
            "     neutral       0.61      0.21      0.32       615\n",
            "    positive       0.80      0.32      0.46       472\n",
            "\n",
            "    accuracy                           0.70      2921\n",
            "   macro avg       0.70      0.50      0.53      2921\n",
            "weighted avg       0.70      0.70      0.65      2921\n",
            "\n",
            "Confusion matrix for 5 neighbors\n",
            "\n",
            "[[1764   54   16]\n",
            " [ 461  132   22]\n",
            " [ 288   31  153]]\n",
            "\n",
            "Accuracy score for 7 neighbors:\n",
            "0.7038685381718589\n",
            "\n",
            "Classification report for 7 neighbors\n",
            "\n",
            "              precision    recall  f1-score   support\n",
            "\n",
            "    negative       0.70      0.98      0.82      1834\n",
            "     neutral       0.65      0.17      0.27       615\n",
            "    positive       0.77      0.33      0.46       472\n",
            "\n",
            "    accuracy                           0.70      2921\n",
            "   macro avg       0.71      0.49      0.52      2921\n",
            "weighted avg       0.70      0.70      0.64      2921\n",
            "\n",
            "Confusion matrix for 7 neighbors\n",
            "\n",
            "[[1796   26   12]\n",
            " [ 476  105   34]\n",
            " [ 287   30  155]]\n",
            "\n",
            "Accuracy score for 10 neighbors:\n",
            "0.6959945224238274\n",
            "\n",
            "Classification report for 10 neighbors\n",
            "\n",
            "              precision    recall  f1-score   support\n",
            "\n",
            "    negative       0.69      0.99      0.81      1834\n",
            "     neutral       0.68      0.13      0.22       615\n",
            "    positive       0.77      0.30      0.43       472\n",
            "\n",
            "    accuracy                           0.70      2921\n",
            "   macro avg       0.71      0.47      0.49      2921\n",
            "weighted avg       0.70      0.70      0.63      2921\n",
            "\n",
            "Confusion matrix for 10 neighbors\n",
            "\n",
            "[[1810   14   10]\n",
            " [ 502   81   32]\n",
            " [ 306   24  142]]\n"
          ],
          "name": "stdout"
        }
      ]
    },
    {
      "cell_type": "code",
      "metadata": {
        "id": "eJ54dwGkS9ky",
        "outputId": "06279f18-5ee3-41ad-d8fd-c7d7b5d3b115",
        "colab": {
          "base_uri": "https://localhost:8080/",
          "height": 279
        }
      },
      "source": [
        "# Plots\n",
        "k = [1,3,5,7,10]\n",
        "all_accuracies = [accuracy1, accuracy3, accuracy5, accuracy7, accuracy10]\n",
        "all_recalls = [recall1, recall3, recall5, recall7, recall10]\n",
        "all_precisions = [precision1, precision3, precision5, precision7, precision10]\n",
        "all_f1 = [f1score1, f1score3, f1score5, f1score7, f1score10]\n",
        "\n",
        "\n",
        "plt.plot(k,all_accuracies, 'r', label='Accuracy')\n",
        "plt.plot(k,all_recalls, 'b', label='Recall')\n",
        "plt.plot(k,all_precisions, 'g', label='Precision')\n",
        "plt.plot(k,all_f1, 'y', label='F1-score')\n",
        "\n",
        "plt.legend()\n",
        "plt.xlabel('K')\n",
        "plt.show()"
      ],
      "execution_count": 197,
      "outputs": [
        {
          "output_type": "display_data",
          "data": {
            "image/png": "[encoded data removed]",
            "text/plain": [
              "<Figure size 432x288 with 1 Axes>"
            ]
          },
          "metadata": {
            "tags": [],
            "needs_background": "light"
          }
        }
      ]
    },
    {
      "cell_type": "code",
      "metadata": {
        "id": "rNK4g--FXMuD"
      },
      "source": [
        ""
      ],
      "execution_count": 197,
      "outputs": []
    }
  ]
}