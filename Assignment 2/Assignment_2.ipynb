{
  "nbformat": 4,
  "nbformat_minor": 0,
  "metadata": {
    "kernelspec": {
      "display_name": "Python 3",
      "language": "python",
      "name": "python3"
    },
    "language_info": {
      "codemirror_mode": {
        "name": "ipython",
        "version": 3
      },
      "file_extension": ".py",
      "mimetype": "text/x-python",
      "name": "python",
      "nbconvert_exporter": "python",
      "pygments_lexer": "ipython3",
      "version": "3.7.5"
    },
    "colab": {
      "name": "21100042_Assignment2.ipynb",
      "provenance": [],
      "collapsed_sections": [],
      "toc_visible": true
    }
  },
  "cells": [
    {
      "cell_type": "markdown",
      "metadata": {
        "id": "ThWEfa8nIJ9P"
      },
      "source": [
        "# Programming Assignment 2: Linear Regression\n",
        "\n",
        "## Instructions\n",
        "\n",
        "- The aim of this assignment is to give you a hands-on with a real-life machine learning application.\n",
        "- Use separate training, and testing data as discussed in class.\n",
        "- You can only use Python programming language and Jupyter Notebooks.\n",
        "- There are three parts of this assignment. In parts 1 & 2, you can only use **numpy, scipy, pandas, matplotlib and are not allowed to use NLTK, scikit-learn or any other machine learning toolkit**. However, you have to use **scikit-learn** in part 3.\n",
        "- Carefully read the submission instructions, plagiarism and late days policy below.\n",
        "- Deadline to submit this assignment is: **Friday, 30th October 2020**.\n",
        "\n",
        "## Submission Instructions\n",
        "\n",
        "Submit your code both as notebook file (.ipynb) and python script (.py) on LMS. The name of both files should be your roll number. If you don’t know how to save .ipynb as .py [see this](https://i.stack.imgur.com/L1rQH.png). **Failing to submit any one of them will result in the reduction of marks**.\n",
        "\n",
        "## Plagiarism Policy\n",
        "\n",
        "The code MUST be done independently. Any plagiarism or cheating of work from others or the internet will be immediately referred to the DC. If you are confused about what constitutes plagiarism, it is YOUR responsibility to consult with the instructor or the TA in a timely manner. No “after the fact” negotiations will be possible. The only way to guarantee that you do not lose marks is “DO NOT LOOK AT ANYONE ELSE'S CODE NOR DISCUSS IT WITH THEM”.\n",
        "\n",
        "## Late Days Policy\n",
        "\n",
        "The deadline of the assignment is final. However, in order to accommodate all the 11th hour issues there is a late submission policy i.e. you can submit your assignment within 3 days after the deadline with 25% deduction each day.\n",
        "\n",
        "\n",
        "## Introduction\n",
        "\n",
        "In this exercise, you will implement linear regression and get to see it work on data. After completing this assignment, you will know:\n",
        "- How to implement linear regression from scratch.\n",
        "- How to estimate linear regression parameters using gradient descent.\n",
        "- How to make predictions on new data using learned parameters.\n",
        "\n",
        "Let's start with the necessary imports."
      ]
    },
    {
      "cell_type": "code",
      "metadata": {
        "id": "rxRPUbtHIJ9Q"
      },
      "source": [
        "import os\n",
        "import numpy as np\n",
        "from matplotlib import pyplot\n",
        "%matplotlib inline"
      ],
      "execution_count": 259,
      "outputs": []
    },
    {
      "cell_type": "markdown",
      "metadata": {
        "id": "22JmO42yIJ9U"
      },
      "source": [
        "## 1. Linear Regression with one variable\n",
        "\n",
        "Linear regression assumes a linear relationship between the input variables (X) and the single output variable (Y). More specifically, that output (Y) can be calculated from a linear combination of the input variables (X). When there is a single input variable, the method is referred to as a simple linear regression.\n",
        "\n",
        "Now you will implement simple linear regression to predict profits for a food truck. Suppose you are the CEO of a restaurant franchise and are considering different cities for opening a new outlet. The chain already has trucks in various cities and you have data for profits and populations from the cities. You would like to use this data to help you select which city to expand to next."
      ]
    },
    {
      "cell_type": "markdown",
      "metadata": {
        "id": "BRA5oyxRIJ9V"
      },
      "source": [
        "### 1.1 Load the dataset\n",
        "\n",
        "The file `Data/ex1data1.txt` contains the dataset for our linear regression problem. The first column is the population of a city (in 10,000s) and the second column is the profit of a food truck in that city (in $10,000s). A negative value for profit indicates a loss. \n",
        "\n",
        "We provide you with the code needed to load this data. The dataset is loaded from the data file into the variables `X` and `Y`."
      ]
    },
    {
      "cell_type": "code",
      "metadata": {
        "id": "iIrO5BItIZIU",
        "outputId": "d1b120f6-f500-45d9-c3b2-3f86ac64e476",
        "colab": {
          "base_uri": "https://localhost:8080/"
        }
      },
      "source": [
        "from google.colab import drive\n",
        "drive.mount('/content/drive')"
      ],
      "execution_count": 260,
      "outputs": [
        {
          "output_type": "stream",
          "text": [
            "Drive already mounted at /content/drive; to attempt to forcibly remount, call drive.mount(\"/content/drive\", force_remount=True).\n"
          ],
          "name": "stdout"
        }
      ]
    },
    {
      "cell_type": "code",
      "metadata": {
        "id": "xiuzpdhkIkdw",
        "outputId": "b28c157e-903b-48c7-c43d-97d16dc0ba70",
        "colab": {
          "base_uri": "https://localhost:8080/"
        }
      },
      "source": [
        "%cd /content/drive/My\\ Drive/Machine\\ Learning/Assignment\\ 2"
      ],
      "execution_count": 261,
      "outputs": [
        {
          "output_type": "stream",
          "text": [
            "/content/drive/My Drive/Machine Learning/Assignment 2\n"
          ],
          "name": "stdout"
        }
      ]
    },
    {
      "cell_type": "code",
      "metadata": {
        "id": "d8vLHT8lIJ9W"
      },
      "source": [
        "import numpy as np\n",
        "import os \n",
        "\n",
        "data = np.loadtxt(os.path.join('Data', 'ex1data.txt'), delimiter=',')\n",
        "X, Y = data[:, 0], data[:, 1]"
      ],
      "execution_count": 262,
      "outputs": []
    },
    {
      "cell_type": "markdown",
      "metadata": {
        "id": "d4XHF1FrIJ9Z"
      },
      "source": [
        "### 1.2 Plot the dataset\n",
        "Before starting on any task, it is often useful to understand the data by visualizing it. For this dataset, you can use a scatter plot to visualize the data, since it has only two properties to plot (profit and population). Execute the next cell to visualize the data."
      ]
    },
    {
      "cell_type": "code",
      "metadata": {
        "id": "FfMk_81fIJ9Z",
        "outputId": "c2c7d4a2-9940-4a25-e9f8-032cb95eb343",
        "colab": {
          "base_uri": "https://localhost:8080/",
          "height": 298
        }
      },
      "source": [
        "import matplotlib.pyplot as pyplot\n",
        "\n",
        "pyplot.plot(X, Y, 'ro', ms=10, mec='k')\n",
        "pyplot.ylabel('Profit in $10,000')\n",
        "pyplot.xlabel('Population of City in 10,000s')"
      ],
      "execution_count": 263,
      "outputs": [
        {
          "output_type": "execute_result",
          "data": {
            "text/plain": [
              "Text(0.5, 0, 'Population of City in 10,000s')"
            ]
          },
          "metadata": {
            "tags": []
          },
          "execution_count": 263
        },
        {
          "output_type": "display_data",
          "data": {
            "image/png": "[encoded data removed]",
            "text/plain": [
              "<Figure size 432x288 with 1 Axes>"
            ]
          },
          "metadata": {
            "tags": [],
            "needs_background": "light"
          }
        }
      ]
    },
    {
      "cell_type": "markdown",
      "metadata": {
        "id": "UmiVfjI6IJ9c"
      },
      "source": [
        "### 1.3 Learn the parameters\n",
        "In this part, you will fit the linear regression parameters $\\theta$ to the food truck dataset using gradient descent.\n",
        "\n",
        "The objective of linear regression is to minimize the cost function\n",
        "\n",
        "$$ J(\\theta) = \\frac{1}{2m} \\sum_{i=1}^m \\left( h_{\\theta}(x^{(i)}) - y^{(i)}\\right)^2 ------ (i)$$ \n",
        "\n",
        "where the hypothesis $h_\\theta(x)$ is given by the linear model\n",
        "$$ h_\\theta(x) = \\theta_0 + \\theta_1 x ------ (ii)$$\n",
        "\n",
        "The parameters of your model are the $\\theta_j$ values. These are\n",
        "the values you will adjust to minimize cost $J(\\theta)$. One way to do this is to\n",
        "use the batch gradient descent algorithm. In batch gradient descent, each\n",
        "iteration performs the update\n",
        "\n",
        "$$ \\theta_0 = \\theta_0 - \\alpha \\frac{1}{m} \\sum_{i=1}^m \\left( h_\\theta(x^{(i)}) - y^{(i)}\\right) ------ (iii)$$\n",
        "\n",
        "$$ \\theta_1 = \\theta_1 - \\alpha \\frac{1}{m} \\sum_{i=1}^m \\left( h_\\theta(x^{(i)}) - y^{(i)}\\right)x^{(i)} ------ (iv)$$\n",
        "\n",
        "With each step of gradient descent, your parameters $\\theta_j$ come closer to the optimal values that will achieve the lowest cost J($\\theta$).\n",
        "\n",
        "Let's start by implementing the hypothesis $h_\\theta(x)$."
      ]
    },
    {
      "cell_type": "code",
      "metadata": {
        "id": "V8agZ2-aIJ9c"
      },
      "source": [
        "### GRADED FUNCTION ###\n",
        "def predict(x, theta0, theta1):\n",
        "    h_x = 0.0\n",
        "    h_x = theta0 + (theta1*x)\n",
        "    return h_x"
      ],
      "execution_count": 264,
      "outputs": []
    },
    {
      "cell_type": "markdown",
      "metadata": {
        "id": "wcweJX_aIJ9h"
      },
      "source": [
        "Execute the next cell to verify your implementation."
      ]
    },
    {
      "cell_type": "code",
      "metadata": {
        "id": "gm33dOYkIJ9h",
        "outputId": "7eed0500-90b0-4ac2-c97c-5828f5fbbc1b",
        "colab": {
          "base_uri": "https://localhost:8080/"
        }
      },
      "source": [
        "h_x = predict(x=2, theta0=1.0, theta1=1.0)\n",
        "print('With x = 2, theta0 = 1.0, theta1 = 1.0\\nPredicted Hypothesis h(x) = %.2f' % h_x)\n",
        "print(\"Expected hypothesis h(x) = 3.00\\n\")"
      ],
      "execution_count": 265,
      "outputs": [
        {
          "output_type": "stream",
          "text": [
            "With x = 2, theta0 = 1.0, theta1 = 1.0\n",
            "Predicted Hypothesis h(x) = 3.00\n",
            "Expected hypothesis h(x) = 3.00\n",
            "\n"
          ],
          "name": "stdout"
        }
      ]
    },
    {
      "cell_type": "markdown",
      "metadata": {
        "id": "5970rqNcIJ9j"
      },
      "source": [
        "As you perform gradient descent to learn minimize the cost function  $J(\\theta)$, it is helpful to monitor the convergence by computing the cost. In this section, you will implement a function to calculate  $J(\\theta)$ so you can check the convergence of your gradient descent implementation."
      ]
    },
    {
      "cell_type": "code",
      "metadata": {
        "id": "PFEW9yKdIJ9j"
      },
      "source": [
        "### GRADED FUNCTION ###\n",
        "def computeCost(X, Y, theta0, theta1):\n",
        "    m = Y.size  \n",
        "    J = 0\n",
        "    J = (1/(2*m))*np.transpose((predict(X, theta0, theta1) - Y))@(predict(X, theta0, theta1) - Y) \n",
        "    return J"
      ],
      "execution_count": 266,
      "outputs": []
    },
    {
      "cell_type": "markdown",
      "metadata": {
        "id": "JDx0LqrPIJ9m"
      },
      "source": [
        "Execute the next cell to verify your implementation."
      ]
    },
    {
      "cell_type": "code",
      "metadata": {
        "id": "HhVFwUcTIJ9m",
        "outputId": "b92b962e-da66-42ec-8df1-34115eeb571f",
        "colab": {
          "base_uri": "https://localhost:8080/"
        }
      },
      "source": [
        "J = computeCost(X, Y, theta0=1.0, theta1=1.0)\n",
        "print('With theta0 = 1.0, theta1 = 1.0\\nPredicted cost J = %.2f' % J)\n",
        "print(\"Expected cost J = 10.27\\n\")"
      ],
      "execution_count": 267,
      "outputs": [
        {
          "output_type": "stream",
          "text": [
            "With theta0 = 1.0, theta1 = 1.0\n",
            "Predicted cost J = 10.27\n",
            "Expected cost J = 10.27\n",
            "\n"
          ],
          "name": "stdout"
        }
      ]
    },
    {
      "cell_type": "markdown",
      "metadata": {
        "id": "1S7qc32UIJ9o"
      },
      "source": [
        "Next, you will complete a function which implements gradient descent. The loop structure has been written for you, and you only need to supply the updates to parameters $\\theta_j$  within each iteration (epoch). \n",
        "\n",
        "The starter code for the function `gradientDescent` calls `computeCost` on every iteration and saves the cost to a `python` list. Assuming you have implemented `gradientDescent` and `computeCost` correctly, your value of $J(\\theta)$ should never increase, and should converge to a steady value by the end of the algorithm."
      ]
    },
    {
      "cell_type": "code",
      "metadata": {
        "id": "RW4VEw-tIJ9p"
      },
      "source": [
        "### GRADED FUNCTION ###\n",
        "def gradientDescent(X, Y, alpha, n_epoch):\n",
        "    \n",
        "    m = Y.size  # number of training examples\n",
        "    J = list()  # list to store cost\n",
        "        \n",
        "    new_X = []\n",
        "    for i in range(m):\n",
        "      new_X.append((1, X[i]))\n",
        "    new_X = np.array(new_X)\n",
        "\n",
        "    theta = (0.0, 0.0)\n",
        "    \n",
        "    for epoch in range(n_epoch):\n",
        "      theta = theta - alpha*(1/m)*(np.transpose(new_X)@(predict(X, theta[0], theta[1]) - Y))     \n",
        "      J.append(computeCost(X, Y, theta[0], theta[1]))\n",
        "    return theta[0], theta[1], J"
      ],
      "execution_count": 268,
      "outputs": []
    },
    {
      "cell_type": "markdown",
      "metadata": {
        "id": "_3qX3N8mIJ9r"
      },
      "source": [
        "Execute the next cell to verify your implementation."
      ]
    },
    {
      "cell_type": "code",
      "metadata": {
        "id": "4VSeApY7IJ9r",
        "outputId": "08f4c83f-a988-4baa-c08c-817752c801b3",
        "colab": {
          "base_uri": "https://localhost:8080/"
        }
      },
      "source": [
        "n_epoch = 1500\n",
        "alpha = 0.01\n",
        "\n",
        "theta0, theta1, J = gradientDescent(X ,Y, alpha, n_epoch)\n",
        "print('Predicted theta0 = %.4f, theta1 = %.4f, cost = %.4f' % (theta0, theta1, J[-1]))\n",
        "print('Expected theta0 = -3.6303, theta1 = 1.1664, cost = 4.4834')"
      ],
      "execution_count": 269,
      "outputs": [
        {
          "output_type": "stream",
          "text": [
            "Predicted theta0 = -3.6303, theta1 = 1.1664, cost = 4.4834\n",
            "Expected theta0 = -3.6303, theta1 = 1.1664, cost = 4.4834\n"
          ],
          "name": "stdout"
        }
      ]
    },
    {
      "cell_type": "markdown",
      "metadata": {
        "id": "5VDRn0BKIJ9u"
      },
      "source": [
        "### 1.4 Plot the linear fit\n",
        "\n",
        "Use your learned parameters $\\theta_j$ to plot the linear fit."
      ]
    },
    {
      "cell_type": "code",
      "metadata": {
        "id": "25HRygTgIJ9u",
        "outputId": "a8eeee34-070e-44a9-c637-0bfaaa05a338",
        "colab": {
          "base_uri": "https://localhost:8080/",
          "height": 298
        }
      },
      "source": [
        "h_x = list()\n",
        "for x in X:\n",
        "    h_x.append(predict(x, theta0, theta1))\n",
        "pyplot.plot(X, Y, 'ro', ms=10, mec='k')\n",
        "pyplot.ylabel('Profit in $10,000')\n",
        "pyplot.xlabel('Population of City in 10,000s')\n",
        "pyplot.plot(X, h_x, '-')\n",
        "pyplot.legend(['Training data', 'Linear regression'])"
      ],
      "execution_count": 270,
      "outputs": [
        {
          "output_type": "execute_result",
          "data": {
            "text/plain": [
              "<matplotlib.legend.Legend at 0x7f254e0ef588>"
            ]
          },
          "metadata": {
            "tags": []
          },
          "execution_count": 270
        },
        {
          "output_type": "display_data",
          "data": {
            "image/png": "[encoded data removed]",
            "text/plain": [
              "<Figure size 432x288 with 1 Axes>"
            ]
          },
          "metadata": {
            "tags": [],
            "needs_background": "light"
          }
        }
      ]
    },
    {
      "cell_type": "markdown",
      "metadata": {
        "id": "QJKUV2pwIJ9w"
      },
      "source": [
        "### 1.5 Make predictions\n",
        "\n",
        "Use your learned parameters $\\theta_j$ to make food truck profit predictions in areas with population of 40,000 and 65,000."
      ]
    },
    {
      "cell_type": "code",
      "metadata": {
        "id": "wVsHSTUHIJ9w",
        "outputId": "39b6891a-3efe-4a9f-f3ac-aa95ca61b57d",
        "colab": {
          "base_uri": "https://localhost:8080/"
        }
      },
      "source": [
        "print('For population = 40,000, predicted profit = $%.2f' % (predict(4, theta0, theta1)*10000))\n",
        "print('For population = 65,000, predicted profit = $%.2f' % (predict(6.5, theta0, theta1)*10000))"
      ],
      "execution_count": 271,
      "outputs": [
        {
          "output_type": "stream",
          "text": [
            "For population = 40,000, predicted profit = $10351.58\n",
            "For population = 65,000, predicted profit = $39510.64\n"
          ],
          "name": "stdout"
        }
      ]
    },
    {
      "cell_type": "markdown",
      "metadata": {
        "id": "GiNhthJwIJ9y"
      },
      "source": [
        "## 2. Multivariate Linear Regression\n",
        "\n",
        "Now, you will implement multivariate linear regression (from scratch) to predict the the median price of homes in a Boston suburb during the mid-1970s. To do this, you are given with the dataset that has 404 examples in the train set and 102 examples in test set. Each example has 13 input variables (features) and one output variable (price in $10,000s). Below is the description of input variables:\n",
        "\n",
        "- Per capita crime rate.\n",
        "- The proportion of residential land zoned for lots over 25,000 square feet.\n",
        "- The proportion of non-retail business acres per town.\n",
        "- Charles River dummy variable (= 1 if tract bounds river; 0 otherwise).\n",
        "- Nitric oxides concentration (parts per 10 million).\n",
        "- The average number of rooms per dwelling.\n",
        "- The proportion of owner-occupied units built before 1940.\n",
        "- Weighted distances to five Boston employment centers.\n",
        "- Index of accessibility to radial highways.\n",
        "- Full-value property-tax rate per $10,000.\n",
        "- Pupil-teacher ratio by town.\n",
        "- 1000 * (Bk - 0.63) ** 2 where Bk is the proportion of Black people by town.\n",
        "- Percentage lower status of the population.\n",
        "\n",
        "Each one of these input features is stored using a different scale. Some features are represented by a proportion between 0 and 1, other features are ranges between 1 and 12, some are ranges between 0 and 100, and so on. This is often the case with real-world data, and understanding how to explore and clean such data is an important skill to develop.\n",
        "\n",
        "A common way to normalize features that use different scales and ranges is:\n",
        "\n",
        "- Subtract the mean value of each feature from the dataset.\n",
        "- After subtracting the mean, additionally scale (divide) the feature values by their respective standard deviations.\n",
        "\n",
        "Note: We only use examples of the train set to estimate the mean and standard deviation.\n",
        "\n",
        "You have to follow exactly the same steps as above i.e. implement hypothesis, cost function and gradient descent for multivariate linear regression to learn parameters $\\theta$ using train set. Finally, report the cost (error) using your learned parameters $\\theta$ on test set. Expected Mean Square Error on this dataset is 11.5 - 12.5 approximately. \n",
        "\n",
        "We provide you with the code needed to load this dataset. The dataset is loaded from the data files into the variables `train_X`, `train_Y`, `test_X` and `test_Y`."
      ]
    },
    {
      "cell_type": "code",
      "metadata": {
        "id": "4sK87T6BIJ9z"
      },
      "source": [
        "train_X = np.loadtxt(os.path.join('Data', 'ex2traindata.txt'))\n",
        "train_Y = np.loadtxt(os.path.join('Data', 'ex2trainlabels.txt'))\n",
        "test_X = np.loadtxt(os.path.join('Data', 'ex2testdata.txt'))\n",
        "test_Y = np.loadtxt(os.path.join('Data', 'ex2testlabels.txt'))"
      ],
      "execution_count": 272,
      "outputs": []
    },
    {
      "cell_type": "code",
      "metadata": {
        "id": "evgIb5glD70p"
      },
      "source": [
        "from statistics import mean \n",
        "from statistics import stdev"
      ],
      "execution_count": 273,
      "outputs": []
    },
    {
      "cell_type": "code",
      "metadata": {
        "id": "Tji7ajrnDHFu"
      },
      "source": [
        "def normalize_1(train_data):\n",
        "\n",
        "  train_data = (train_data - train_data.mean(axis=0)) / train_data.std(axis=0)\n",
        "  return train_data\n",
        "  \n",
        "  # sample_max = []\n",
        "\n",
        "  # for i in range(13):\n",
        "  #   val_1 = train_data[:,i]\n",
        "  #   max1 = max(val_1)\n",
        "  #   sample_max.append(max1)\n",
        "\n",
        "  # list1 = []\n",
        "  # for values in train_data:\n",
        "  #   list2 = []\n",
        "  #   for index, item in enumerate(values):\n",
        "  #     one = (item / sample_max[index])\n",
        "  #     list2.append(one)\n",
        "  #   list1.append(list2)\n",
        "\n",
        "  # return list1"
      ],
      "execution_count": 274,
      "outputs": []
    },
    {
      "cell_type": "code",
      "metadata": {
        "id": "yZxjFNJnDHKE"
      },
      "source": [
        "train_X = normalize_1(train_X)"
      ],
      "execution_count": 275,
      "outputs": []
    },
    {
      "cell_type": "code",
      "metadata": {
        "id": "GuCsFNgrLwEo"
      },
      "source": [
        "new_X = []\n",
        "for value in train_X:\n",
        "  new_X.append([1, value[0],value[1],value[2],value[3],value[4],value[5],value[6],value[7],value[8],value[9],value[10],value[11],value[12]])\n",
        "train_X = np.array(new_X)"
      ],
      "execution_count": 276,
      "outputs": []
    },
    {
      "cell_type": "code",
      "metadata": {
        "id": "B_yYiDRxkBpv"
      },
      "source": [
        "def hyp_multi(X, theta):\n",
        "  return X@theta"
      ],
      "execution_count": 277,
      "outputs": []
    },
    {
      "cell_type": "code",
      "metadata": {
        "id": "VndAC9wl3oRC"
      },
      "source": [
        "def computeCost_multi(X, Y, theta):\n",
        "    m = Y.size  \n",
        "    return (1/(2*m))*np.transpose((X@theta - Y))@(X@theta - Y)"
      ],
      "execution_count": 278,
      "outputs": []
    },
    {
      "cell_type": "code",
      "metadata": {
        "id": "FdmRhDYeC--s"
      },
      "source": [
        "def gradientDescent_multi(X, Y, alpha, n_epoch):\n",
        "  theta = np.ones(14)\n",
        "  m = Y.size  \n",
        "  J = []\n",
        "  for i in range(n_epoch):\n",
        "    theta = theta - alpha*(1/m)*np.transpose(X)@(X@theta - Y)\n",
        "    cost_val = computeCost_multi(X, Y, theta)\n",
        "    J.append(cost_val)\n",
        "  return J, theta"
      ],
      "execution_count": 279,
      "outputs": []
    },
    {
      "cell_type": "code",
      "metadata": {
        "id": "FlKfOZW7C_F6",
        "outputId": "4995dfdf-7290-4e32-b6eb-197388aba09b",
        "colab": {
          "base_uri": "https://localhost:8080/"
        }
      },
      "source": [
        "n_epoch = 500\n",
        "alpha = 0.01\n",
        "\n",
        "cost_list, theta = gradientDescent_multi(train_X, train_Y, alpha, n_epoch)\n",
        "print('Coefficients: \\n', theta)\n",
        "print(f'\\nMinimum cost: {cost_list[-1]}')\n"
      ],
      "execution_count": 280,
      "outputs": [
        {
          "output_type": "stream",
          "text": [
            "Coefficients: \n",
            " [22.25447369 -0.77465987  0.83716784 -0.20281274  1.07717586 -0.94493296\n",
            "  3.17174216  0.09631951 -1.89543104  1.02168427 -0.48794586 -1.63784626\n",
            "  1.02555159 -3.53602799]\n",
            "\n",
            "Minimum cost: 11.722061283067896\n"
          ],
          "name": "stdout"
        }
      ]
    },
    {
      "cell_type": "markdown",
      "metadata": {
        "id": "NjJrgdQ9IJ94"
      },
      "source": [
        "## 3. Regularized Linear Regression\n",
        "\n",
        "Now, you'll use the [scikit-learn](https://scikit-learn.org/stable/index.html) to implement [Linear Regression](https://scikit-learn.org/stable/modules/generated/sklearn.linear_model.LinearRegression.html), [Ridge](https://scikit-learn.org/stable/modules/generated/sklearn.linear_model.Ridge.html#sklearn.linear_model.Ridge), [Lasso](https://scikit-learn.org/stable/modules/generated/sklearn.linear_model.Lasso.html#sklearn.linear_model.Lasso), [Elastic Net](https://scikit-learn.org/stable/modules/generated/sklearn.linear_model.ElasticNet.html#sklearn.linear_model.ElasticNet) and apply them to Boston house pricing dataset (provided in part 2). Try out different values of regularization coefficient (known as alpha in scikit-learn) and use the [Mean Squared Error](https://scikit-learn.org/stable/modules/generated/sklearn.metrics.mean_squared_error.html) to report loss with each regression. Finally, plot the regularization coefficients alpha (x-axis) with learned parameters $\\theta$ (y-axis) for Ridge and Lasso. Please read [this blog](https://scienceloft.com/technical/understanding-lasso-and-ridge-regression/) to get better understanding of the desired plots."
      ]
    },
    {
      "cell_type": "code",
      "metadata": {
        "id": "NNdNHlCsIJ95"
      },
      "source": [
        "from sklearn.linear_model import LinearRegression\n",
        "from sklearn.linear_model import Ridge\n",
        "from sklearn.linear_model import Lasso\n",
        "from sklearn.linear_model import ElasticNet\n",
        "from sklearn.metrics import mean_squared_error\n",
        "import matplotlib.pyplot as plt"
      ],
      "execution_count": 281,
      "outputs": []
    },
    {
      "cell_type": "code",
      "metadata": {
        "id": "jScUymTCGpeF"
      },
      "source": [
        "train_X = np.loadtxt(os.path.join('Data', 'ex2traindata.txt'))\n",
        "train_Y = np.loadtxt(os.path.join('Data', 'ex2trainlabels.txt'))\n",
        "test_X = np.loadtxt(os.path.join('Data', 'ex2testdata.txt'))\n",
        "test_Y = np.loadtxt(os.path.join('Data', 'ex2testlabels.txt'))"
      ],
      "execution_count": 282,
      "outputs": []
    },
    {
      "cell_type": "code",
      "metadata": {
        "id": "BcELfzwE_Us6"
      },
      "source": [
        "train_X = normalize_1(train_X)"
      ],
      "execution_count": 283,
      "outputs": []
    },
    {
      "cell_type": "code",
      "metadata": {
        "id": "pJGciynR_Uv3"
      },
      "source": [
        "test_X = normalize_1(test_X)"
      ],
      "execution_count": 284,
      "outputs": []
    },
    {
      "cell_type": "code",
      "metadata": {
        "id": "WJLKxblHIJ99",
        "outputId": "4f48b3df-b7a6-4618-9668-869be556e000",
        "colab": {
          "base_uri": "https://localhost:8080/"
        }
      },
      "source": [
        "# Linear Regression\n",
        "print('Linear Regression')\n",
        "regression = LinearRegression(normalize=True)\n",
        "regression.fit(train_X, train_Y)\n",
        "predict_y = regression.predict(test_X)\n",
        "# print('Coefficients: \\n', regression.coef_)\n",
        "print('Mean squared error: %.2f' % mean_squared_error(test_Y, predict_y))\n",
        "print(regression.coef_)\n"
      ],
      "execution_count": 285,
      "outputs": [
        {
          "output_type": "stream",
          "text": [
            "Linear Regression\n",
            "Mean squared error: 20.98\n",
            "[-1.10749194  1.35308963  0.02710126  0.9943535  -2.40156557  2.3962877\n",
            "  0.2111952  -3.47121628  2.90814885 -1.95741889 -1.98298545  0.81955092\n",
            " -4.02739073]\n"
          ],
          "name": "stdout"
        }
      ]
    },
    {
      "cell_type": "code",
      "metadata": {
        "id": "WqAglToYiL9-"
      },
      "source": [
        "def compute_ridge(alphas):\n",
        "  print('Ridge Regression')\n",
        "  for alpha in alphas:\n",
        "    ridge = Ridge(alpha=alpha)\n",
        "    ridge.fit(train_X, train_Y) \n",
        "\n",
        "    predicted_ridge = ridge.predict(test_X)\n",
        "    print(f'Value of alpha: {alpha}')\n",
        "    print('Mean squared error: %.2f\\n' % np.sqrt(mean_squared_error(test_Y, predicted_ridge)))"
      ],
      "execution_count": 286,
      "outputs": []
    },
    {
      "cell_type": "code",
      "metadata": {
        "id": "iXd88Ju-iMAk"
      },
      "source": [
        "def compute_lasso(alphas):\n",
        "  print('Lasso Regression')\n",
        "  for alpha in alphas:\n",
        "    lasso = Lasso(alpha=alpha)\n",
        "    lasso.fit(train_X, train_Y) \n",
        "\n",
        "    predicted_lasso = lasso.predict(test_X)\n",
        "    print(f'Value of alpha: {alpha}')\n",
        "    print('Mean squared error: %.2f\\n' % np.sqrt(mean_squared_error(test_Y,predicted_lasso))) "
      ],
      "execution_count": 287,
      "outputs": []
    },
    {
      "cell_type": "code",
      "metadata": {
        "id": "VijvWi55iMD2"
      },
      "source": [
        "def compute_elastic_net(alphas):\n",
        "  print('Elastic Net Regression')\n",
        "  for alpha in alphas:\n",
        "    elastic_net = ElasticNet(alpha = alpha)\n",
        "    elastic_net.fit(train_X, train_Y) \n",
        "\n",
        "    predicted_elastic_net = elastic_net.predict(test_X)\n",
        "    print(f'Value of alpha: {alpha}')\n",
        "    print('Mean squared error: %.2f\\n' % np.sqrt(mean_squared_error(test_Y,predicted_elastic_net))) "
      ],
      "execution_count": 288,
      "outputs": []
    },
    {
      "cell_type": "code",
      "metadata": {
        "id": "oXC2oQOaJPow"
      },
      "source": [
        "def plot_ridge():\n",
        "  alphas = np.logspace(-2, 6, 200)\n",
        "  coefficients = []\n",
        "\n",
        "  for alpha in alphas:\n",
        "      ridge = Ridge(alpha=alpha)\n",
        "      ridge.fit(train_X, train_Y) \n",
        "      coefficients.append(ridge.coef_)\n",
        "      \n",
        "  plt.figure(figsize=(20, 8))\n",
        "  plt.subplot(121)\n",
        "  ax = plt.gca()\n",
        "  ax.plot(alphas, coefficients)\n",
        "  ax.legend()\n",
        "  ax.plot(alphas, coefficients)\n",
        "  ax.set_xscale('log')\n",
        "  plt.xlabel('Regularization Coefficients Alpha')\n",
        "  plt.ylabel('Learned Parameters (theta)')\n",
        "  plt.title('Ridge coefficients as a function of the regularization')\n",
        "  plt.axis('tight')\n",
        "  "
      ],
      "execution_count": 289,
      "outputs": []
    },
    {
      "cell_type": "code",
      "metadata": {
        "id": "oY_W8Y1gRdbP"
      },
      "source": [
        "def plot_lasso():\n",
        "  alphas = np.logspace(-2, 2, 200)\n",
        "  coefficients = []\n",
        "  \n",
        "\n",
        "  for alpha in alphas:\n",
        "      lasso = Lasso(alpha=alpha)\n",
        "      lasso.fit(train_X, train_Y) \n",
        "      coefficients.append(lasso.coef_)\n",
        "      \n",
        "  plt.figure(figsize=(20, 8))\n",
        "  plt.subplot(121)\n",
        "  ax = plt.gca()\n",
        "  ax.plot(alphas, coefficients)\n",
        "  ax.legend()\n",
        "  ax.set_xscale('log')\n",
        "  plt.xlabel('Regularization Coefficients Alpha')\n",
        "  plt.ylabel('Learned Parameters (theta)')\n",
        "  plt.title('Lasso coefficients as a function of the regularization')\n",
        "  plt.axis('tight')"
      ],
      "execution_count": 290,
      "outputs": []
    },
    {
      "cell_type": "code",
      "metadata": {
        "id": "n4U4qGgdPCkK",
        "outputId": "530a801d-ef69-443b-eb4d-9eeacbadcc06",
        "colab": {
          "base_uri": "https://localhost:8080/",
          "height": 1000
        }
      },
      "source": [
        "alphas= [0.0001, 0.001, 0.01, 0.1, 1, 5, 10, 100]\n",
        "\n",
        "compute_ridge(alphas)\n",
        "compute_lasso(alphas)\n",
        "compute_elastic_net(alphas)\n",
        "plot_ridge()\n",
        "plot_lasso()"
      ],
      "execution_count": 291,
      "outputs": [
        {
          "output_type": "stream",
          "text": [
            "Ridge Regression\n",
            "Value of alpha: 0.0001\n",
            "Mean squared error: 4.58\n",
            "\n",
            "Value of alpha: 0.001\n",
            "Mean squared error: 4.58\n",
            "\n",
            "Value of alpha: 0.01\n",
            "Mean squared error: 4.58\n",
            "\n",
            "Value of alpha: 0.1\n",
            "Mean squared error: 4.58\n",
            "\n",
            "Value of alpha: 1\n",
            "Mean squared error: 4.57\n",
            "\n",
            "Value of alpha: 5\n",
            "Mean squared error: 4.54\n",
            "\n",
            "Value of alpha: 10\n",
            "Mean squared error: 4.52\n",
            "\n",
            "Value of alpha: 100\n",
            "Mean squared error: 4.51\n",
            "\n",
            "Lasso Regression\n",
            "Value of alpha: 0.0001\n",
            "Mean squared error: 4.58\n",
            "\n",
            "Value of alpha: 0.001\n",
            "Mean squared error: 4.58\n",
            "\n",
            "Value of alpha: 0.01\n",
            "Mean squared error: 4.56\n",
            "\n",
            "Value of alpha: 0.1\n",
            "Mean squared error: 4.49\n",
            "\n",
            "Value of alpha: 1\n",
            "Mean squared error: 4.79\n",
            "\n",
            "Value of alpha: 5\n",
            "Mean squared error: 7.80\n",
            "\n",
            "Value of alpha: 10\n",
            "Mean squared error: 9.15\n",
            "\n",
            "Value of alpha: 100\n",
            "Mean squared error: 9.15\n",
            "\n",
            "Elastic Net Regression\n",
            "Value of alpha: 0.0001\n",
            "Mean squared error: 4.58\n",
            "\n",
            "Value of alpha: 0.001\n",
            "Mean squared error: 4.58\n",
            "\n",
            "Value of alpha: 0.01\n",
            "Mean squared error: 4.56\n",
            "\n",
            "Value of alpha: 0.1\n",
            "Mean squared error: 4.46\n",
            "\n",
            "Value of alpha: 1\n",
            "Mean squared error: 5.02\n",
            "\n",
            "Value of alpha: 5\n",
            "Mean squared error: 7.44\n",
            "\n",
            "Value of alpha: 10\n",
            "Mean squared error: 8.81\n",
            "\n",
            "Value of alpha: 100\n",
            "Mean squared error: 9.15\n",
            "\n"
          ],
          "name": "stdout"
        },
        {
          "output_type": "stream",
          "text": [
            "No handles with labels found to put in legend.\n",
            "No handles with labels found to put in legend.\n"
          ],
          "name": "stderr"
        },
        {
          "output_type": "display_data",
          "data": {
            "image/png": "[encoded data removed]",
            "text/plain": [
              "<Figure size 1440x576 with 1 Axes>"
            ]
          },
          "metadata": {
            "tags": [],
            "needs_background": "light"
          }
        },
        {
          "output_type": "display_data",
          "data": {
            "image/png": "[encoded data removed]",
            "text/plain": [
              "<Figure size 1440x576 with 1 Axes>"
            ]
          },
          "metadata": {
            "tags": [],
            "needs_background": "light"
          }
        }
      ]
    },
    {
      "cell_type": "code",
      "metadata": {
        "id": "cY1tXpgDQAzr"
      },
      "source": [
        ""
      ],
      "execution_count": 291,
      "outputs": []
    }
  ]
}