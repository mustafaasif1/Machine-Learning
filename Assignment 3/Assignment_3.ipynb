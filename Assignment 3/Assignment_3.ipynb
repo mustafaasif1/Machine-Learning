{
 "cells": [
  {
   "cell_type": "code",
   "execution_count": 1,
   "metadata": {},
   "outputs": [],
   "source": [
    "# Machine Learning Assignment 3 (21100042)\n",
    "## Preprocessing Stage:"
   ]
  },
  {
   "cell_type": "code",
   "execution_count": 36,
   "metadata": {},
   "outputs": [],
   "source": [
    "import glob\n",
    "import re\n",
    "import pandas as pd\n",
    "import numpy as np\n",
    "import math\n",
    "\n",
    "import pandas as pd\n",
    "from sklearn.model_selection import train_test_split\n",
    "from sklearn.linear_model import LogisticRegression\n",
    "from sklearn import metrics\n",
    "import seaborn as sn\n",
    "import matplotlib.pyplot as plt"
   ]
  },
  {
   "cell_type": "code",
   "execution_count": 3,
   "metadata": {},
   "outputs": [],
   "source": [
    "# Count positive and negative words in reviews\n",
    "def counting_words(word_list, review_list):\n",
    "    return len([each for each in word_list if each in review_list])"
   ]
  },
  {
   "cell_type": "code",
   "execution_count": 4,
   "metadata": {},
   "outputs": [],
   "source": [
    "# This function adds a column of positive and negative words\n",
    "def counting_and_adding_negative_and_positive_words(data_frame, positive_words, negative_words):\n",
    "    postive_list = []\n",
    "    negative_list = []\n",
    "    for i in range(data_frame['Review'].count()):\n",
    "        positive_word = counting_words(positive_words, data_frame['Review'][i])\n",
    "        postive_list.append(positive_word)\n",
    "        negative_word = counting_words(negative_words, data_frame['Review'][i])\n",
    "        negative_list.append(negative_word)\n",
    "    data_frame['x1'] = postive_list\n",
    "    data_frame['x2'] = negative_list"
   ]
  },
  {
   "cell_type": "code",
   "execution_count": 5,
   "metadata": {},
   "outputs": [],
   "source": [
    "# Function to read the whole file\n",
    "def read_whole_file(filename):\n",
    "    sentence = ''\n",
    "    with open(filename, encoding=\"utf8\") as f:\n",
    "        sentence = f.readlines()\n",
    "    match = filename.split(\"_\",1)[1].replace(\".txt\", \"\")\n",
    "    return sentence[0], match "
   ]
  },
  {
   "cell_type": "code",
   "execution_count": 6,
   "metadata": {},
   "outputs": [],
   "source": [
    "# Preprocessing training data\n",
    "def preprocessing_and_storing(path):\n",
    "    all_files = []\n",
    "    review_number = []\n",
    "    folder_path = \"Dataset/\" + path\n",
    "    txt_files = glob.glob(folder_path + \"*.txt\")\n",
    "    output_strings = map(read_whole_file, sorted(txt_files))\n",
    "    for file in txt_files:\n",
    "        sentence, match = read_whole_file(file)   \n",
    "        all_files.append(sentence)\n",
    "        review_number.append(match)\n",
    "    return all_files, review_number    "
   ]
  },
  {
   "cell_type": "code",
   "execution_count": 7,
   "metadata": {},
   "outputs": [],
   "source": [
    "def cleaning_the_data(data_list,stop_words):\n",
    "    # Converted to lower case\n",
    "    data_list = data_list.str.lower()\n",
    "    # Removed stop words from the data\n",
    "    stop = r'\\b(?:{})\\b'.format('|'.join(stop_words))\n",
    "    data_list = data_list.str.replace(stop, '')\n",
    "    data_list = data_list.str.replace(r'\\s+', ' ')\n",
    "    # Removed punctuation from the data\n",
    "    data_list = data_list.str.replace('[^\\w\\s]','')\n",
    "    return data_list"
   ]
  },
  {
   "cell_type": "code",
   "execution_count": 8,
   "metadata": {},
   "outputs": [],
   "source": [
    "def sigmoid(value):\n",
    "    z = 1/(1 + np.exp(-value))\n",
    "    return z"
   ]
  },
  {
   "cell_type": "code",
   "execution_count": 9,
   "metadata": {},
   "outputs": [],
   "source": [
    "def compute_tp_tn_fn_fp(y_actual, y_predicted):\n",
    "    tp = sum((y_actual == 1) & (y_predicted == 1))\n",
    "    tn = sum((y_actual == 0) & (y_predicted == 0))\n",
    "    fp = sum((y_actual == 0) & (y_predicted == 1))\n",
    "    fn = sum((y_actual == 1) & (y_predicted == 0))\n",
    "    return tp, tn, fp, fn"
   ]
  },
  {
   "cell_type": "code",
   "execution_count": 10,
   "metadata": {},
   "outputs": [],
   "source": [
    "def predict_and_print_accuracy(theta, Training_data, Testing_data):\n",
    "    Sample_test = Testing_data[['x0', 'x1', 'x2']]\n",
    "    list1 = []\n",
    "    for i in range(Testing_data['Review'].count()):\n",
    "        value = sigmoid((Testing_data['x0'][i] * theta[0]) + (Testing_data['x1'][i] * theta[1]) + (Testing_data['x2'][i] * theta[2]))\n",
    "        if value >= 0.5:\n",
    "            list1.append(1)\n",
    "        else:\n",
    "            list1.append(0)\n",
    "    \n",
    "    count = 0\n",
    "    for i in range(Testing_data['Review'].count()):\n",
    "        if list1[i] == Testing_data['y'][i]:\n",
    "            count = count + 1 \n",
    "    print('Accuracy: \\n', count/Testing_data['Review'].count())\n",
    "    \n",
    "    Testing_data['predicted'] = list1\n",
    "    tp, tn, fp, fn =  compute_tp_tn_fn_fp(Testing_data['y'], Testing_data['predicted'])\n",
    "    data = [[tp, fp],\n",
    "            [fn, tn]]\n",
    "\n",
    "    # define labels\n",
    "    labels = [\"1\", \"0\"]\n",
    "    \n",
    "    sn.set(color_codes=True)\n",
    "    plt.figure(1, figsize=(9, 6))\n",
    "    plt.title(\"Confusion Matrix\")\n",
    "    sn.set(font_scale=1.4)\n",
    "    ax = sn.heatmap(data, annot=True, cmap=\"YlGnBu\", cbar_kws={'label': 'Scale'})\n",
    "    ax.set_xticklabels(labels)\n",
    "    ax.set_yticklabels(labels)\n",
    "    ax.set(ylabel=\"True Label\", xlabel=\"Predicted Label\")\n",
    "    plt.show()  "
   ]
  },
  {
   "cell_type": "code",
   "execution_count": 59,
   "metadata": {},
   "outputs": [],
   "source": [
    "def plot_loss(cost_list, costlist2):\n",
    "    plt.plot(cost_list, 'g', label='Training loss')\n",
    "    plt.plot(costlist2, 'b', label='validation loss')\n",
    "#     loss_val = costlist2\n",
    "    plt.title('model loss')\n",
    "    plt.ylabel('Loss')\n",
    "    plt.xlabel('Epoch')\n",
    "    plt.legend()\n",
    "    plt.show()\n",
    "    \n",
    "#     loss_train = cost_list\n",
    "#     loss_val = costlist2\n",
    "#     epochs = 1500\n",
    "#     plt.plot(epochs, loss_train, 'g', label='Training loss')\n",
    "#     plt.plot(epochs, loss_val, 'b', label='validation loss')\n",
    "#     plt.title('Training and Validation loss')\n",
    "#     plt.xlabel('Epochs')\n",
    "#     plt.ylabel('Loss')\n",
    "#     plt.legend()\n",
    "#     plt.show()"
   ]
  },
  {
   "cell_type": "code",
   "execution_count": 12,
   "metadata": {},
   "outputs": [],
   "source": [
    "# We saved the training data, test data and stop words in variables\n",
    "stop_words_file = 'Dataset/stop_words.txt'\n",
    "positive_file = 'Dataset/positive_words.txt'\n",
    "negative_file = 'Dataset/negative_words.txt'\n",
    "stop_words = ''\n",
    "positive_words = ''\n",
    "negative_words = ''"
   ]
  },
  {
   "cell_type": "code",
   "execution_count": 13,
   "metadata": {},
   "outputs": [],
   "source": [
    "with open(stop_words_file) as f:\n",
    "    stop_words = f.readlines()\n",
    "    \n",
    "with open(positive_file) as f:\n",
    "    positive_words = f.readlines()\n",
    "    \n",
    "with open(negative_file) as f:\n",
    "    negative_words = f.readlines()"
   ]
  },
  {
   "cell_type": "code",
   "execution_count": 14,
   "metadata": {},
   "outputs": [],
   "source": [
    "# Removed the new line character form all of the words\n",
    "stop_words = [x.replace('\\n', '') for x in stop_words]\n",
    "positive_words = [x.replace('\\n', '') for x in positive_words]\n",
    "negative_words = [x.replace('\\n', '') for x in negative_words]"
   ]
  },
  {
   "cell_type": "code",
   "execution_count": 15,
   "metadata": {},
   "outputs": [],
   "source": [
    "train_data_pos, train_pos_review = preprocessing_and_storing('train/pos/')\n",
    "train_data_neg, train_neg_review = preprocessing_and_storing('train/neg/')\n",
    "test_data_pos, test_pos_review = preprocessing_and_storing('test/pos/')\n",
    "test_data_neg, test_neg_review = preprocessing_and_storing('test/neg/')"
   ]
  },
  {
   "cell_type": "code",
   "execution_count": 16,
   "metadata": {},
   "outputs": [],
   "source": [
    "data1 = {'Review': train_data_pos,\n",
    "        'Rating': train_pos_review,\n",
    "        'x0': 1,\n",
    "        'y': 1\n",
    "        }\n",
    "\n",
    "data2 = {'Review': train_data_neg,\n",
    "        'Rating': train_neg_review,\n",
    "        'x0': 1,\n",
    "        'y': 0\n",
    "        }\n",
    "\n",
    "data3 = {'Review': test_data_pos,\n",
    "        'Rating': test_pos_review,\n",
    "        'x0': 1,\n",
    "        'y': 1\n",
    "        }\n",
    "\n",
    "data4 = {'Review': test_data_neg,\n",
    "        'Rating': test_neg_review,\n",
    "        'x0': 1,\n",
    "        'y': 0\n",
    "        }"
   ]
  },
  {
   "cell_type": "code",
   "execution_count": 17,
   "metadata": {},
   "outputs": [],
   "source": [
    "train_positive = pd.DataFrame(data1, columns = ['Review','Rating', 'x0', 'y'])\n",
    "train_negative = pd.DataFrame(data2, columns = ['Review','Rating', 'x0', 'y'])\n",
    "test_positive = pd.DataFrame(data3, columns = ['Review','Rating', 'x0', 'y'])\n",
    "test_negative = pd.DataFrame(data4, columns = ['Review','Rating', 'x0', 'y'])"
   ]
  },
  {
   "cell_type": "code",
   "execution_count": 18,
   "metadata": {},
   "outputs": [],
   "source": [
    "train_positive['Review'] = cleaning_the_data(train_positive['Review'], stop_words)\n",
    "train_negative['Review'] = cleaning_the_data(train_negative['Review'], stop_words)\n",
    "test_positive['Review'] = cleaning_the_data(test_positive['Review'], stop_words)\n",
    "test_negative['Review'] = cleaning_the_data(test_negative['Review'], stop_words)"
   ]
  },
  {
   "cell_type": "code",
   "execution_count": 19,
   "metadata": {},
   "outputs": [],
   "source": [
    "counting_and_adding_negative_and_positive_words(train_positive, positive_words, negative_words)\n",
    "counting_and_adding_negative_and_positive_words(train_negative, positive_words, negative_words)\n",
    "counting_and_adding_negative_and_positive_words(test_positive, positive_words, negative_words)\n",
    "counting_and_adding_negative_and_positive_words(test_negative, positive_words, negative_words)"
   ]
  },
  {
   "cell_type": "code",
   "execution_count": 20,
   "metadata": {},
   "outputs": [
    {
     "data": {
      "text/html": [
       "<div>\n",
       "<style scoped>\n",
       "    .dataframe tbody tr th:only-of-type {\n",
       "        vertical-align: middle;\n",
       "    }\n",
       "\n",
       "    .dataframe tbody tr th {\n",
       "        vertical-align: top;\n",
       "    }\n",
       "\n",
       "    .dataframe thead th {\n",
       "        text-align: right;\n",
       "    }\n",
       "</style>\n",
       "<table border=\"1\" class=\"dataframe\">\n",
       "  <thead>\n",
       "    <tr style=\"text-align: right;\">\n",
       "      <th></th>\n",
       "      <th>Review</th>\n",
       "      <th>Rating</th>\n",
       "      <th>x0</th>\n",
       "      <th>y</th>\n",
       "      <th>x1</th>\n",
       "      <th>x2</th>\n",
       "    </tr>\n",
       "  </thead>\n",
       "  <tbody>\n",
       "    <tr>\n",
       "      <th>0</th>\n",
       "      <td>bromwell high cartoon comedy ran time programs...</td>\n",
       "      <td>9</td>\n",
       "      <td>1</td>\n",
       "      <td>1</td>\n",
       "      <td>7</td>\n",
       "      <td>14</td>\n",
       "    </tr>\n",
       "    <tr>\n",
       "      <th>1</th>\n",
       "      <td>homelessness  houselessness george carlin stat...</td>\n",
       "      <td>8</td>\n",
       "      <td>1</td>\n",
       "      <td>1</td>\n",
       "      <td>15</td>\n",
       "      <td>34</td>\n",
       "    </tr>\n",
       "    <tr>\n",
       "      <th>2</th>\n",
       "      <td>brilliant acting lesley ann warren best dramat...</td>\n",
       "      <td>10</td>\n",
       "      <td>1</td>\n",
       "      <td>1</td>\n",
       "      <td>15</td>\n",
       "      <td>13</td>\n",
       "    </tr>\n",
       "    <tr>\n",
       "      <th>3</th>\n",
       "      <td>easily underrated film inn brooks cannon sure...</td>\n",
       "      <td>7</td>\n",
       "      <td>1</td>\n",
       "      <td>1</td>\n",
       "      <td>10</td>\n",
       "      <td>19</td>\n",
       "    </tr>\n",
       "    <tr>\n",
       "      <th>4</th>\n",
       "      <td>typical mel brooks film much less slapstick m...</td>\n",
       "      <td>8</td>\n",
       "      <td>1</td>\n",
       "      <td>1</td>\n",
       "      <td>5</td>\n",
       "      <td>9</td>\n",
       "    </tr>\n",
       "    <tr>\n",
       "      <th>...</th>\n",
       "      <td>...</td>\n",
       "      <td>...</td>\n",
       "      <td>...</td>\n",
       "      <td>...</td>\n",
       "      <td>...</td>\n",
       "      <td>...</td>\n",
       "    </tr>\n",
       "    <tr>\n",
       "      <th>12495</th>\n",
       "      <td>seeing vote average pretty low fact clerk vide...</td>\n",
       "      <td>9</td>\n",
       "      <td>1</td>\n",
       "      <td>1</td>\n",
       "      <td>16</td>\n",
       "      <td>6</td>\n",
       "    </tr>\n",
       "    <tr>\n",
       "      <th>12496</th>\n",
       "      <td>plot wretched unbelievable twists however che...</td>\n",
       "      <td>8</td>\n",
       "      <td>1</td>\n",
       "      <td>1</td>\n",
       "      <td>8</td>\n",
       "      <td>10</td>\n",
       "    </tr>\n",
       "    <tr>\n",
       "      <th>12497</th>\n",
       "      <td>amazed movie others average 5 stars lower cra...</td>\n",
       "      <td>10</td>\n",
       "      <td>1</td>\n",
       "      <td>1</td>\n",
       "      <td>23</td>\n",
       "      <td>36</td>\n",
       "    </tr>\n",
       "    <tr>\n",
       "      <th>12498</th>\n",
       "      <td>christmas together actually came time  raised...</td>\n",
       "      <td>8</td>\n",
       "      <td>1</td>\n",
       "      <td>1</td>\n",
       "      <td>13</td>\n",
       "      <td>7</td>\n",
       "    </tr>\n",
       "    <tr>\n",
       "      <th>12499</th>\n",
       "      <td>workingclass romantic drama director martin ri...</td>\n",
       "      <td>7</td>\n",
       "      <td>1</td>\n",
       "      <td>1</td>\n",
       "      <td>20</td>\n",
       "      <td>26</td>\n",
       "    </tr>\n",
       "  </tbody>\n",
       "</table>\n",
       "<p>12500 rows × 6 columns</p>\n",
       "</div>"
      ],
      "text/plain": [
       "                                                  Review Rating  x0  y  x1  x2\n",
       "0      bromwell high cartoon comedy ran time programs...      9   1  1   7  14\n",
       "1      homelessness  houselessness george carlin stat...      8   1  1  15  34\n",
       "2      brilliant acting lesley ann warren best dramat...     10   1  1  15  13\n",
       "3       easily underrated film inn brooks cannon sure...      7   1  1  10  19\n",
       "4       typical mel brooks film much less slapstick m...      8   1  1   5   9\n",
       "...                                                  ...    ...  .. ..  ..  ..\n",
       "12495  seeing vote average pretty low fact clerk vide...      9   1  1  16   6\n",
       "12496   plot wretched unbelievable twists however che...      8   1  1   8  10\n",
       "12497   amazed movie others average 5 stars lower cra...     10   1  1  23  36\n",
       "12498   christmas together actually came time  raised...      8   1  1  13   7\n",
       "12499  workingclass romantic drama director martin ri...      7   1  1  20  26\n",
       "\n",
       "[12500 rows x 6 columns]"
      ]
     },
     "execution_count": 20,
     "metadata": {},
     "output_type": "execute_result"
    }
   ],
   "source": [
    "train_positive"
   ]
  },
  {
   "cell_type": "code",
   "execution_count": 21,
   "metadata": {},
   "outputs": [],
   "source": [
    "Training_data = train_positive.append(train_negative)\n",
    "Training_data = Training_data.sample(frac = 1).reset_index(drop=True) "
   ]
  },
  {
   "cell_type": "code",
   "execution_count": 22,
   "metadata": {},
   "outputs": [],
   "source": [
    "Testing_data = test_positive.append(test_negative)\n",
    "Testing_data = Testing_data.sample(frac = 1).reset_index(drop=True)"
   ]
  },
  {
   "cell_type": "code",
   "execution_count": 23,
   "metadata": {},
   "outputs": [],
   "source": [
    "def model(X,theta):\n",
    "    return X @ theta"
   ]
  },
  {
   "cell_type": "code",
   "execution_count": 39,
   "metadata": {},
   "outputs": [],
   "source": [
    "SampleTrain = Training_data[['x0', 'x1', 'x2']]\n",
    "SampleTest = Testing_data[['x0', 'x1', 'x2']]"
   ]
  },
  {
   "cell_type": "code",
   "execution_count": 40,
   "metadata": {},
   "outputs": [],
   "source": [
    "def sigmoid(value):\n",
    "    z = 1/(1 + np.exp(-value))\n",
    "    return z"
   ]
  },
  {
   "cell_type": "code",
   "execution_count": 41,
   "metadata": {},
   "outputs": [],
   "source": [
    "# This is the loss function\n",
    "def cross_entropy(X, Y, weights):\n",
    "    return -(1.0/Y.size)* sum((Y*np.log(0.00000000001 + sigmoid(model(X,weights))) + (1-Y)*np.log(0.00000000001 + 1-sigmoid(model(X,weights)))))"
   ]
  },
  {
   "cell_type": "code",
   "execution_count": 42,
   "metadata": {},
   "outputs": [],
   "source": [
    "def gradientDescent_multi(X, Y, alpha, n_epoch):\n",
    "    theta = np.ones(3)\n",
    "    m = Y.size  \n",
    "    J = []\n",
    "    for i in range(n_epoch):\n",
    "        theta = theta - alpha*(1/m)*np.transpose(X)@(sigmoid(X@theta) - Y)\n",
    "        cost_val = cross_entropy(X, Y, theta)\n",
    "        J.append(cost_val)\n",
    "    return J, theta"
   ]
  },
  {
   "cell_type": "code",
   "execution_count": 43,
   "metadata": {},
   "outputs": [],
   "source": [
    "X_train, X_val, y_train, y_val = train_test_split(SampleTrain, Training_data['y'], test_size=0.2, random_state=1)"
   ]
  },
  {
   "cell_type": "code",
   "execution_count": 71,
   "metadata": {},
   "outputs": [],
   "source": [
    "n_epoch = 1500\n",
    "alpha = 0.01\n",
    "\n",
    "J, thetha = gradientDescent_multi(X_train, y_train, alpha, n_epoch)\n",
    "J2, thetha2 = gradientDescent_multi(X_val, y_val, alpha, n_epoch)"
   ]
  },
  {
   "cell_type": "code",
   "execution_count": 72,
   "metadata": {},
   "outputs": [
    {
     "name": "stdout",
     "output_type": "stream",
     "text": [
      "Coefficients:\n",
      " x0    0.163689\n",
      "x1    0.163309\n",
      "x2   -0.109211\n",
      "dtype: float64\n"
     ]
    }
   ],
   "source": [
    "print('Coefficients:\\n', thetha)"
   ]
  },
  {
   "cell_type": "code",
   "execution_count": 73,
   "metadata": {},
   "outputs": [
    {
     "name": "stdout",
     "output_type": "stream",
     "text": [
      "Cross entropy: \n",
      " 0.5837358750798354\n"
     ]
    }
   ],
   "source": [
    "print('Cross entropy: \\n', J[-1])"
   ]
  },
  {
   "cell_type": "code",
   "execution_count": 74,
   "metadata": {},
   "outputs": [
    {
     "name": "stdout",
     "output_type": "stream",
     "text": [
      "Accuracy: \n",
      " 0.70364\n"
     ]
    },
    {
     "data": {
      "image/png": "[encoded data removed]",
      "text/plain": [
       "<Figure size 648x432 with 2 Axes>"
      ]
     },
     "metadata": {},
     "output_type": "display_data"
    }
   ],
   "source": [
    "predict_and_print_accuracy(thetha, Training_data, Testing_data)"
   ]
  },
  {
   "cell_type": "code",
   "execution_count": 75,
   "metadata": {},
   "outputs": [
    {
     "data": {
      "image/png": "[encoded data removed]",
      "text/plain": [
       "<Figure size 432x288 with 1 Axes>"
      ]
     },
     "metadata": {},
     "output_type": "display_data"
    }
   ],
   "source": [
    "# Report plots with no. of iterations/ epochs on x-axis and training/ validation loss on y-axis.\n",
    "plot_loss(J, J2)"
   ]
  },
  {
   "cell_type": "code",
   "execution_count": 33,
   "metadata": {},
   "outputs": [],
   "source": [
    "# Part 2"
   ]
  },
  {
   "cell_type": "code",
   "execution_count": 34,
   "metadata": {},
   "outputs": [],
   "source": [
    "X_train = Training_data[['x0', 'x1','x2']]\n",
    "y_train = Training_data['y']"
   ]
  },
  {
   "cell_type": "code",
   "execution_count": 35,
   "metadata": {},
   "outputs": [],
   "source": [
    "X_test = Testing_data[['x0', 'x1','x2']]\n",
    "y_test = Testing_data['y']"
   ]
  },
  {
   "cell_type": "code",
   "execution_count": 81,
   "metadata": {},
   "outputs": [],
   "source": [
    "logistic= LogisticRegression()\n",
    "logistic.fit(X_train,y_train)\n",
    "y_pred = logistic.predict(X_test)"
   ]
  },
  {
   "cell_type": "code",
   "execution_count": 82,
   "metadata": {},
   "outputs": [
    {
     "data": {
      "text/plain": [
       "<AxesSubplot:xlabel='Predicted', ylabel='Actual'>"
      ]
     },
     "execution_count": 82,
     "metadata": {},
     "output_type": "execute_result"
    },
    {
     "data": {
      "image/png": "[encoded data removed]",
      "text/plain": [
       "<Figure size 432x288 with 2 Axes>"
      ]
     },
     "metadata": {},
     "output_type": "display_data"
    }
   ],
   "source": [
    "confusion_matrix = pd.crosstab(y_test, y_pred, rownames=['Actual'], colnames=['Predicted'])\n",
    "sn.heatmap(confusion_matrix, annot=True)"
   ]
  },
  {
   "cell_type": "code",
   "execution_count": 83,
   "metadata": {},
   "outputs": [
    {
     "name": "stdout",
     "output_type": "stream",
     "text": [
      "Accuracy: 0.7098\n"
     ]
    }
   ],
   "source": [
    "print('Accuracy:',metrics.accuracy_score(y_test, y_pred))\n",
    "plt.show()"
   ]
  }
 ],
 "metadata": {
  "kernelspec": {
   "display_name": "Python 3",
   "language": "python",
   "name": "python3"
  },
  "language_info": {
   "codemirror_mode": {
    "name": "ipython",
    "version": 3
   },
   "file_extension": ".py",
   "mimetype": "text/x-python",
   "name": "python",
   "nbconvert_exporter": "python",
   "pygments_lexer": "ipython3",
   "version": "3.8.5"
  }
 },
 "nbformat": 4,
 "nbformat_minor": 4
}
